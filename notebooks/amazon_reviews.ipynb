{
 "cells": [
  {
   "cell_type": "code",
   "execution_count": 1,
   "metadata": {},
   "outputs": [
    {
     "name": "stderr",
     "output_type": "stream",
     "text": [
      "/home/ubuntu/anaconda3/envs/pytorch_p36/lib/python3.6/site-packages/sklearn/utils/deprecation.py:144: FutureWarning: The sklearn.semi_supervised.label_propagation module is  deprecated in version 0.22 and will be removed in version 0.24. The corresponding classes / functions should instead be imported from sklearn.semi_supervised. Anything that cannot be imported from sklearn.semi_supervised is now part of the private API.\n",
      "  warnings.warn(message, FutureWarning)\n",
      "/home/ubuntu/anaconda3/envs/pytorch_p36/lib/python3.6/site-packages/sklearn/base.py:318: UserWarning: Trying to unpickle estimator LabelPropagation from version 0.18 when using version 0.22.1. This might lead to breaking code or invalid results. Use at your own risk.\n",
      "  UserWarning)\n"
     ]
    }
   ],
   "source": [
    "from pathlib import Path\n",
    "import nltk\n",
    "import gzip\n",
    "import json\n",
    "import zipfile\n",
    "import pandas as pd\n",
    "import numpy as np\n",
    "import matplotlib.pyplot as plt\n",
    "import seaborn as sns\n",
    "import re\n",
    "from multiprocessing import Pool\n",
    "import spacy\n",
    "import time\n",
    "import pickle\n",
    "import multiprocessing as mp\n",
    "import string\n",
    "import en_core_web_sm\n",
    "from nltk.tokenize import word_tokenize\n",
    "from sklearn.base import TransformerMixin, BaseEstimator\n",
    "from normalise import normalise\n",
    "from sklearn.pipeline import Pipeline\n",
    "from sklearn.feature_extraction.text import CountVectorizer, TfidfTransformer, TfidfVectorizer\n",
    "from sklearn.naive_bayes import MultinomialNB\n",
    "from sklearn.model_selection import train_test_split\n",
    "from sklearn.metrics import confusion_matrix, classification_report\n",
    "from collections import Counter\n",
    "from tensorflow.keras.preprocessing.text import Tokenizer\n",
    "from tensorflow.keras.preprocessing.sequence import pad_sequences\n",
    "import torch\n",
    "import transformers\n",
    "from torch.utils.data import Dataset, DataLoader\n",
    "from transformers import DistilBertModel, DistilBertTokenizer\n",
    "from sklearn.preprocessing import LabelEncoder\n",
    "import scikitplot as skplt\n",
    "from sklearn.metrics import classification_report\n",
    "\n",
    "nlp = en_core_web_sm.load();"
   ]
  },
  {
   "cell_type": "code",
   "execution_count": 2,
   "metadata": {},
   "outputs": [
    {
     "name": "stderr",
     "output_type": "stream",
     "text": [
      "[nltk_data] Downloading package brown to /home/ubuntu/nltk_data...\n",
      "[nltk_data]   Package brown is already up-to-date!\n",
      "[nltk_data] Downloading package names to /home/ubuntu/nltk_data...\n",
      "[nltk_data]   Package names is already up-to-date!\n",
      "[nltk_data] Downloading package wordnet to /home/ubuntu/nltk_data...\n",
      "[nltk_data]   Package wordnet is already up-to-date!\n",
      "[nltk_data] Downloading package averaged_perceptron_tagger to\n",
      "[nltk_data]     /home/ubuntu/nltk_data...\n",
      "[nltk_data]   Package averaged_perceptron_tagger is already up-to-\n",
      "[nltk_data]       date!\n",
      "[nltk_data] Downloading package universal_tagset to\n",
      "[nltk_data]     /home/ubuntu/nltk_data...\n",
      "[nltk_data]   Package universal_tagset is already up-to-date!\n"
     ]
    }
   ],
   "source": [
    "for dependency in (\"brown\", \"names\", \"wordnet\", \"averaged_perceptron_tagger\", \"universal_tagset\"):\n",
    "    nltk.download(dependency)"
   ]
  },
  {
   "cell_type": "code",
   "execution_count": 3,
   "metadata": {},
   "outputs": [],
   "source": [
    "DATA_FOLDER = Path('./data')\n",
    "reviews = DATA_FOLDER / 'reviews_Home_and_Kitchen_5.json.gz'\n",
    "\n",
    "VOCAB_SIZE = 120000     # how many unique words to use (i.e num rows in embedding vector)\n",
    "NN_MAX_REVIEW_LEN = 128 # max number of words in review\n",
    "EMBEDDING_SIZE = 300    # size of embeddings vector"
   ]
  },
  {
   "cell_type": "code",
   "execution_count": 4,
   "metadata": {},
   "outputs": [],
   "source": [
    "pd.options.display.max_rows = 500\n",
    "pd.options.display.max_columns = 500\n",
    "pd.options.display.width = 1000\n",
    "pd.options.display.max_colwidth = 1000"
   ]
  },
  {
   "cell_type": "code",
   "execution_count": null,
   "metadata": {},
   "outputs": [],
   "source": []
  },
  {
   "cell_type": "code",
   "execution_count": null,
   "metadata": {},
   "outputs": [],
   "source": []
  },
  {
   "cell_type": "markdown",
   "metadata": {},
   "source": [
    "## Data load and EDA"
   ]
  },
  {
   "cell_type": "code",
   "execution_count": 5,
   "metadata": {},
   "outputs": [],
   "source": [
    "if not (DATA_FOLDER/'reviews.csv').exists():\n",
    "    df = pd.DataFrame.from_records(map(json.loads, gzip.open(reviews)))\n",
    "    df[['reviewText', 'overall']].to_csv(DATA_FOLDER/'reviews.csv')\n",
    "df = pd.read_csv(DATA_FOLDER/'reviews.csv').set_index(\"Unnamed: 0\")"
   ]
  },
  {
   "cell_type": "code",
   "execution_count": 6,
   "metadata": {},
   "outputs": [
    {
     "data": {
      "text/html": [
       "<div>\n",
       "<style scoped>\n",
       "    .dataframe tbody tr th:only-of-type {\n",
       "        vertical-align: middle;\n",
       "    }\n",
       "\n",
       "    .dataframe tbody tr th {\n",
       "        vertical-align: top;\n",
       "    }\n",
       "\n",
       "    .dataframe thead th {\n",
       "        text-align: right;\n",
       "    }\n",
       "</style>\n",
       "<table border=\"1\" class=\"dataframe\">\n",
       "  <thead>\n",
       "    <tr style=\"text-align: right;\">\n",
       "      <th></th>\n",
       "      <th>reviewText</th>\n",
       "      <th>overall</th>\n",
       "    </tr>\n",
       "    <tr>\n",
       "      <th>Unnamed: 0</th>\n",
       "      <th></th>\n",
       "      <th></th>\n",
       "    </tr>\n",
       "  </thead>\n",
       "  <tbody>\n",
       "    <tr>\n",
       "      <th>0</th>\n",
       "      <td>My daughter wanted this book and the price on Amazon was the best.  She has already tried one recipe a day after receiving the book.  She seems happy with it.</td>\n",
       "      <td>5.0</td>\n",
       "    </tr>\n",
       "    <tr>\n",
       "      <th>1</th>\n",
       "      <td>I bought this zoku quick pop for my daughterr with her zoku quick maker. She loves it and have fun to make her own ice cream.</td>\n",
       "      <td>5.0</td>\n",
       "    </tr>\n",
       "    <tr>\n",
       "      <th>2</th>\n",
       "      <td>There is no shortage of pop recipes available for free on the web, but I purchased the \"Zoku Quick Pops\" book, because Zoku has some good recipes for fruit pops on its blog. I was hoping there were more where those came from. This book emphasizes very sweet dessert pops, however. There are 41 recipes in total, only 13 of which are fruit pops. There is a \"Fresh and Fruity\" chapter, followed by three chapters of dessert pops entitled \"I Scream for Quick Pops!\", \"Bake Shop\", and  \"Coco Loco\". As you might guess from the last one, there are 15 pop recipes that contain chocolate.Chapters on \"Tips\" and \"Techniques\" are useful. There is more detailed information about ingredients that don't freeze well in the Zoku than is found in the instruction manual. The book lists options for dairy products and sweeteners, tells you how to do different types of layers, how to add decorative fruit slices, how to do a quick shell, and how to make core pops. The pages about core pops are especially help...</td>\n",
       "      <td>4.0</td>\n",
       "    </tr>\n",
       "    <tr>\n",
       "      <th>3</th>\n",
       "      <td>This book is a must have if you get a Zoku (which I also highly recommend). There is a large variety of recipes from simple, to fancy. The flavor combos are creative, and it gives you ideas for decorating the pops too. They turn out as beautiful as they are tasty. After reading it you will be inspired to create your own recipes too.</td>\n",
       "      <td>5.0</td>\n",
       "    </tr>\n",
       "    <tr>\n",
       "      <th>4</th>\n",
       "      <td>This cookbook is great.  I have really enjoyed reviewing all of the recipes.  Sure - some are more difficult than others, but there is a nice variety in this book.  For me it was totally worth it just to get the quick shell recipes alone.  We have only tried the chocolate so far, but it is so tasty.  A few of my favorite recipes in this book are the banana from the strawberry banana one, and the raspberry/blackberry ones (but I used mixed berries).  Also, it has great instructions for tips on using the Zoku.  Definitely recommended.</td>\n",
       "      <td>4.0</td>\n",
       "    </tr>\n",
       "    <tr>\n",
       "      <th>...</th>\n",
       "      <td>...</td>\n",
       "      <td>...</td>\n",
       "    </tr>\n",
       "    <tr>\n",
       "      <th>551677</th>\n",
       "      <td>These ice pop molds are awesome! Bright kid-happy colors in just the right size portions.  I received the package very quickly and immediately washed them out and filled them with different juice combos -- the next morning when I took one out to try it, it was tough to get the little lid off, but just a second or two under running water loosened things up enough to easily remove the lid.  Very soft, squeezable molds with ridges that make them easy to grip -- and easy to push the pop up... looking forward to trying many different flavor combos over the summer!</td>\n",
       "      <td>5.0</td>\n",
       "    </tr>\n",
       "    <tr>\n",
       "      <th>551678</th>\n",
       "      <td>great popsicle molds - very nice quality - and the colors are pretty cool too!</td>\n",
       "      <td>5.0</td>\n",
       "    </tr>\n",
       "    <tr>\n",
       "      <th>551679</th>\n",
       "      <td>My kids and I are loving these - putting our creativity to the test - nicely made!-</td>\n",
       "      <td>5.0</td>\n",
       "    </tr>\n",
       "    <tr>\n",
       "      <th>551680</th>\n",
       "      <td>I love these ice pop makers. First off, I love that these are BPA FREE, very important for me, safety comes first, taste later, secondly I love the cute colors very very cute &amp; summery, Very convenient &amp; user friendly product design considering the shape, size, design &amp; materialFirstly the size  is convenient for one servingThe design with ridges gives a nice grip, the cute flower shape lid, so you can put the leftover again in the freezerThe cone like shape makes it easy to push the pop upThe material is soft &amp; squeezable to push the pop upI love them, gonna use them a lot this summer</td>\n",
       "      <td>5.0</td>\n",
       "    </tr>\n",
       "    <tr>\n",
       "      <th>551681</th>\n",
       "      <td>My kids love these ice pop makers!!!  Since we have an abundance of orange juice at the moment, I poured some in each mold.  Within a couple hours, they were frozen.  I surprised the kids after they spent the afternoon swimming, and they were very excited about their orange juice pops.  The molds worked great.  I love that they have lids so they are individually self contained.  The kids liked that they weren't messy as they melted.  Now the kids are begging me to make pudding pops.  We'll be using these a lot this summer!!!</td>\n",
       "      <td>5.0</td>\n",
       "    </tr>\n",
       "  </tbody>\n",
       "</table>\n",
       "<p>551682 rows × 2 columns</p>\n",
       "</div>"
      ],
      "text/plain": [
       "                                                                                                                                                                                                                                                                                                                                                                                                                                                                                                                                                                                                                                                                                                                                                                                                                                                                                                                                                                                                                                         reviewText  \\\n",
       "Unnamed: 0                                                                                                                                                                                                                                                                                                                                                                                                                                                                                                                                                                                                                                                                                                                                                                                                                                                                                                                                                                                                                                            \n",
       "0                                                                                                                                                                                                                                                                                                                                                                                                                                                                                                                                                                                                                                                                                                                                                                                                                                                                                    My daughter wanted this book and the price on Amazon was the best.  She has already tried one recipe a day after receiving the book.  She seems happy with it.   \n",
       "1                                                                                                                                                                                                                                                                                                                                                                                                                                                                                                                                                                                                                                                                                                                                                                                                                                                                                                                     I bought this zoku quick pop for my daughterr with her zoku quick maker. She loves it and have fun to make her own ice cream.   \n",
       "2           There is no shortage of pop recipes available for free on the web, but I purchased the \"Zoku Quick Pops\" book, because Zoku has some good recipes for fruit pops on its blog. I was hoping there were more where those came from. This book emphasizes very sweet dessert pops, however. There are 41 recipes in total, only 13 of which are fruit pops. There is a \"Fresh and Fruity\" chapter, followed by three chapters of dessert pops entitled \"I Scream for Quick Pops!\", \"Bake Shop\", and  \"Coco Loco\". As you might guess from the last one, there are 15 pop recipes that contain chocolate.Chapters on \"Tips\" and \"Techniques\" are useful. There is more detailed information about ingredients that don't freeze well in the Zoku than is found in the instruction manual. The book lists options for dairy products and sweeteners, tells you how to do different types of layers, how to add decorative fruit slices, how to do a quick shell, and how to make core pops. The pages about core pops are especially help...   \n",
       "3                                                                                                                                                                                                                                                                                                                                                                                                                                                                                                                                                                                                                                                                                                    This book is a must have if you get a Zoku (which I also highly recommend). There is a large variety of recipes from simple, to fancy. The flavor combos are creative, and it gives you ideas for decorating the pops too. They turn out as beautiful as they are tasty. After reading it you will be inspired to create your own recipes too.   \n",
       "4                                                                                                                                                                                                                                                                                                                                                                                                                                                                                        This cookbook is great.  I have really enjoyed reviewing all of the recipes.  Sure - some are more difficult than others, but there is a nice variety in this book.  For me it was totally worth it just to get the quick shell recipes alone.  We have only tried the chocolate so far, but it is so tasty.  A few of my favorite recipes in this book are the banana from the strawberry banana one, and the raspberry/blackberry ones (but I used mixed berries).  Also, it has great instructions for tips on using the Zoku.  Definitely recommended.   \n",
       "...                                                                                                                                                                                                                                                                                                                                                                                                                                                                                                                                                                                                                                                                                                                                                                                                                                                                                                                                                                                                                                             ...   \n",
       "551677                                                                                                                                                                                                                                                                                                                                                                                                                                                        These ice pop molds are awesome! Bright kid-happy colors in just the right size portions.  I received the package very quickly and immediately washed them out and filled them with different juice combos -- the next morning when I took one out to try it, it was tough to get the little lid off, but just a second or two under running water loosened things up enough to easily remove the lid.  Very soft, squeezable molds with ridges that make them easy to grip -- and easy to push the pop up... looking forward to trying many different flavor combos over the summer!   \n",
       "551678                                                                                                                                                                                                                                                                                                                                                                                                                                                                                                                                                                                                                                                                                                                                                                                                                                                                                                                                                               great popsicle molds - very nice quality - and the colors are pretty cool too!   \n",
       "551679                                                                                                                                                                                                                                                                                                                                                                                                                                                                                                                                                                                                                                                                                                                                                                                                                                                                                                                                                          My kids and I are loving these - putting our creativity to the test - nicely made!-   \n",
       "551680                                                                                                                                                                                                                                                                                                                                                                                                                             I love these ice pop makers. First off, I love that these are BPA FREE, very important for me, safety comes first, taste later, secondly I love the cute colors very very cute & summery, Very convenient & user friendly product design considering the shape, size, design & materialFirstly the size  is convenient for one servingThe design with ridges gives a nice grip, the cute flower shape lid, so you can put the leftover again in the freezerThe cone like shape makes it easy to push the pop upThe material is soft & squeezable to push the pop upI love them, gonna use them a lot this summer   \n",
       "551681                                                                                                                                                                                                                                                                                                                                                                                                                                                                                           My kids love these ice pop makers!!!  Since we have an abundance of orange juice at the moment, I poured some in each mold.  Within a couple hours, they were frozen.  I surprised the kids after they spent the afternoon swimming, and they were very excited about their orange juice pops.  The molds worked great.  I love that they have lids so they are individually self contained.  The kids liked that they weren't messy as they melted.  Now the kids are begging me to make pudding pops.  We'll be using these a lot this summer!!!   \n",
       "\n",
       "            overall  \n",
       "Unnamed: 0           \n",
       "0               5.0  \n",
       "1               5.0  \n",
       "2               4.0  \n",
       "3               5.0  \n",
       "4               4.0  \n",
       "...             ...  \n",
       "551677          5.0  \n",
       "551678          5.0  \n",
       "551679          5.0  \n",
       "551680          5.0  \n",
       "551681          5.0  \n",
       "\n",
       "[551682 rows x 2 columns]"
      ]
     },
     "execution_count": 6,
     "metadata": {},
     "output_type": "execute_result"
    }
   ],
   "source": [
    "df"
   ]
  },
  {
   "cell_type": "code",
   "execution_count": 7,
   "metadata": {},
   "outputs": [
    {
     "data": {
      "text/plain": [
       "(551682, 2)"
      ]
     },
     "execution_count": 7,
     "metadata": {},
     "output_type": "execute_result"
    }
   ],
   "source": [
    "df.shape"
   ]
  },
  {
   "cell_type": "code",
   "execution_count": 8,
   "metadata": {},
   "outputs": [
    {
     "name": "stdout",
     "output_type": "stream",
     "text": [
      "<class 'pandas.core.frame.DataFrame'>\n",
      "Int64Index: 551682 entries, 0 to 551681\n",
      "Data columns (total 2 columns):\n",
      " #   Column      Non-Null Count   Dtype  \n",
      "---  ------      --------------   -----  \n",
      " 0   reviewText  551466 non-null  object \n",
      " 1   overall     551682 non-null  float64\n",
      "dtypes: float64(1), object(1)\n",
      "memory usage: 12.6+ MB\n"
     ]
    }
   ],
   "source": [
    "df.info()"
   ]
  },
  {
   "cell_type": "code",
   "execution_count": 9,
   "metadata": {},
   "outputs": [
    {
     "data": {
      "image/png": "[encoded data removed]",
      "text/plain": [
       "<Figure size 432x288 with 1 Axes>"
      ]
     },
     "metadata": {
      "needs_background": "light"
     },
     "output_type": "display_data"
    }
   ],
   "source": [
    "# total reviews by score\n",
    "overall = df.overall.value_counts()\n",
    "sns.barplot(overall.index, overall.values);"
   ]
  },
  {
   "cell_type": "code",
   "execution_count": 10,
   "metadata": {},
   "outputs": [
    {
     "data": {
      "image/png": "[encoded data removed]",
      "text/plain": [
       "<Figure size 432x288 with 1 Axes>"
      ]
     },
     "metadata": {
      "needs_background": "light"
     },
     "output_type": "display_data"
    }
   ],
   "source": [
    "# percent distribution of ratings\n",
    "as_perct = df['overall'].value_counts()/df['overall'].count()*100\n",
    "sns.barplot(as_perct.index, as_perct.values);"
   ]
  },
  {
   "cell_type": "code",
   "execution_count": 11,
   "metadata": {},
   "outputs": [],
   "source": [
    "# sample only 20k from each category\n",
    "\n",
    "if not (DATA_FOLDER/'reviews_small.csv').exists():\n",
    "    df = df.dropna()\n",
    "    new_df_5 = df[df['overall']==5][:20000]\n",
    "    new_df_4 = df[df['overall']==4][:20000]\n",
    "    new_df_3 = df[df['overall']==3][:20000]\n",
    "    new_df_2 = df[df['overall']==2][:20000]\n",
    "    new_df_1 = df[df['overall']==1][:20000]\n",
    "    pdList = [new_df_1,new_df_2,new_df_3,new_df_4,new_df_5]\n",
    "    df = pd.concat(pdList)\n",
    "    df[['reviewText', 'overall']].to_csv(DATA_FOLDER/'reviews_small.csv')\n",
    "df = pd.read_csv(DATA_FOLDER/'reviews_small.csv').set_index(\"Unnamed: 0\")"
   ]
  },
  {
   "cell_type": "code",
   "execution_count": 12,
   "metadata": {},
   "outputs": [
    {
     "data": {
      "text/html": [
       "<div>\n",
       "<style scoped>\n",
       "    .dataframe tbody tr th:only-of-type {\n",
       "        vertical-align: middle;\n",
       "    }\n",
       "\n",
       "    .dataframe tbody tr th {\n",
       "        vertical-align: top;\n",
       "    }\n",
       "\n",
       "    .dataframe thead th {\n",
       "        text-align: right;\n",
       "    }\n",
       "</style>\n",
       "<table border=\"1\" class=\"dataframe\">\n",
       "  <thead>\n",
       "    <tr style=\"text-align: right;\">\n",
       "      <th></th>\n",
       "      <th>reviewText</th>\n",
       "    </tr>\n",
       "    <tr>\n",
       "      <th>overall</th>\n",
       "      <th></th>\n",
       "    </tr>\n",
       "  </thead>\n",
       "  <tbody>\n",
       "    <tr>\n",
       "      <th>1.0</th>\n",
       "      <td>20000</td>\n",
       "    </tr>\n",
       "    <tr>\n",
       "      <th>2.0</th>\n",
       "      <td>20000</td>\n",
       "    </tr>\n",
       "    <tr>\n",
       "      <th>3.0</th>\n",
       "      <td>20000</td>\n",
       "    </tr>\n",
       "    <tr>\n",
       "      <th>4.0</th>\n",
       "      <td>20000</td>\n",
       "    </tr>\n",
       "    <tr>\n",
       "      <th>5.0</th>\n",
       "      <td>20000</td>\n",
       "    </tr>\n",
       "  </tbody>\n",
       "</table>\n",
       "</div>"
      ],
      "text/plain": [
       "         reviewText\n",
       "overall            \n",
       "1.0           20000\n",
       "2.0           20000\n",
       "3.0           20000\n",
       "4.0           20000\n",
       "5.0           20000"
      ]
     },
     "execution_count": 12,
     "metadata": {},
     "output_type": "execute_result"
    }
   ],
   "source": [
    "df.groupby(['overall']).count()"
   ]
  },
  {
   "cell_type": "code",
   "execution_count": 13,
   "metadata": {},
   "outputs": [],
   "source": [
    "df.columns = [\"review\",\"condition\"]"
   ]
  },
  {
   "cell_type": "code",
   "execution_count": 14,
   "metadata": {},
   "outputs": [],
   "source": [
    "# change data types to string so type(0) is a string and not an int\n",
    "df['condition'] = df['condition'].apply(str)\n",
    "df['review'] = df['review'].apply(str)"
   ]
  },
  {
   "cell_type": "code",
   "execution_count": 15,
   "metadata": {},
   "outputs": [],
   "source": [
    "# finding the maxlen\n",
    "df['len'] = df['review'].apply(lambda s : len(s))"
   ]
  },
  {
   "cell_type": "code",
   "execution_count": 16,
   "metadata": {},
   "outputs": [
    {
     "data": {
      "text/plain": [
       "<matplotlib.axes._subplots.AxesSubplot at 0x7fb570e48b00>"
      ]
     },
     "execution_count": 16,
     "metadata": {},
     "output_type": "execute_result"
    },
    {
     "data": {
      "image/png": "[encoded data removed]",
      "text/plain": [
       "<Figure size 432x288 with 1 Axes>"
      ]
     },
     "metadata": {
      "needs_background": "light"
     },
     "output_type": "display_data"
    }
   ],
   "source": [
    "df['len'].plot.hist(bins=10)"
   ]
  },
  {
   "cell_type": "code",
   "execution_count": 17,
   "metadata": {},
   "outputs": [
    {
     "data": {
      "text/plain": [
       "1185.0"
      ]
     },
     "execution_count": 17,
     "metadata": {},
     "output_type": "execute_result"
    }
   ],
   "source": [
    "df.len.quantile(0.9)"
   ]
  },
  {
   "cell_type": "code",
   "execution_count": 18,
   "metadata": {},
   "outputs": [],
   "source": [
    "del df['len']"
   ]
  },
  {
   "cell_type": "code",
   "execution_count": null,
   "metadata": {},
   "outputs": [],
   "source": []
  },
  {
   "cell_type": "markdown",
   "metadata": {},
   "source": [
    "## Text preprocessing"
   ]
  },
  {
   "cell_type": "markdown",
   "metadata": {},
   "source": [
    "* _replace_contraction\n",
    "* _clean_numbers\n",
    "* _normalize (https://github.com/EFord36/normalise)\n",
    "* _tokenize with spacy\n",
    "* _remove_punct\n",
    "* _remove_stop_words\n",
    "* _clean - remove empty tokens\n",
    "* lower\n",
    "\n",
    "\n",
    "not lemmatizing \n"
   ]
  },
  {
   "cell_type": "code",
   "execution_count": 19,
   "metadata": {},
   "outputs": [],
   "source": [
    "class TextPreprocessor(BaseEstimator, TransformerMixin):\n",
    "    def __init__(self,\n",
    "                 variety=\"BrE\",\n",
    "                 user_abbrevs={},\n",
    "                 n_jobs=1):\n",
    "        \"\"\"\n",
    "        Text preprocessing transformer includes steps:\n",
    "            1. Text normalization\n",
    "            2. Punctuation removal\n",
    "            3. Stop words removal\n",
    "            4. Lemmatization\n",
    "        \n",
    "        variety - format of date (AmE - american type, BrE - british format) \n",
    "        user_abbrevs - dict of user abbreviations mappings (from normalise package)\n",
    "        n_jobs - parallel jobs to run\n",
    "        \n",
    "        adapted from Maks Balatsko\n",
    "        \"\"\"\n",
    "\n",
    "        self.variety = variety\n",
    "        self.user_abbrevs = user_abbrevs\n",
    "        self.n_jobs = n_jobs\n",
    "        self.contraction_dict = {\"ain't\": \"is not\", \"aren't\": \"are not\",\"can't\": \"cannot\", \"'cause\": \"because\", \"could've\": \"could have\", \"couldn't\": \"could not\", \"didn't\": \"did not\",  \"doesn't\": \"does not\", \"don't\": \"do not\", \"hadn't\": \"had not\", \"hasn't\": \"has not\", \"haven't\": \"have not\", \"he'd\": \"he would\",\"he'll\": \"he will\", \"he's\": \"he is\", \"how'd\": \"how did\", \"how'd'y\": \"how do you\", \"how'll\": \"how will\", \"how's\": \"how is\",  \"I'd\": \"I would\", \"I'd've\": \"I would have\", \"I'll\": \"I will\", \"I'll've\": \"I will have\",\"I'm\": \"I am\", \"I've\": \"I have\", \"i'd\": \"i would\", \"i'd've\": \"i would have\", \"i'll\": \"i will\",  \"i'll've\": \"i will have\",\"i'm\": \"i am\", \"i've\": \"i have\", \"isn't\": \"is not\", \"it'd\": \"it would\", \"it'd've\": \"it would have\", \"it'll\": \"it will\", \"it'll've\": \"it will have\",\"it's\": \"it is\", \"let's\": \"let us\", \"ma'am\": \"madam\", \"mayn't\": \"may not\", \"might've\": \"might have\",\"mightn't\": \"might not\",\"mightn't've\": \"might not have\", \"must've\": \"must have\", \"mustn't\": \"must not\", \"mustn't've\": \"must not have\", \"needn't\": \"need not\", \"needn't've\": \"need not have\",\"o'clock\": \"of the clock\", \"oughtn't\": \"ought not\", \"oughtn't've\": \"ought not have\", \"shan't\": \"shall not\", \"sha'n't\": \"shall not\", \"shan't've\": \"shall not have\", \"she'd\": \"she would\", \"she'd've\": \"she would have\", \"she'll\": \"she will\", \"she'll've\": \"she will have\", \"she's\": \"she is\", \"should've\": \"should have\", \"shouldn't\": \"should not\", \"shouldn't've\": \"should not have\", \"so've\": \"so have\",\"so's\": \"so as\", \"this's\": \"this is\",\"that'd\": \"that would\", \"that'd've\": \"that would have\", \"that's\": \"that is\", \"there'd\": \"there would\", \"there'd've\": \"there would have\", \"there's\": \"there is\", \"here's\": \"here is\",\"they'd\": \"they would\", \"they'd've\": \"they would have\", \"they'll\": \"they will\", \"they'll've\": \"they will have\", \"they're\": \"they are\", \"they've\": \"they have\", \"to've\": \"to have\", \"wasn't\": \"was not\", \"we'd\": \"we would\", \"we'd've\": \"we would have\", \"we'll\": \"we will\", \"we'll've\": \"we will have\", \"we're\": \"we are\", \"we've\": \"we have\", \"weren't\": \"were not\", \"what'll\": \"what will\", \"what'll've\": \"what will have\", \"what're\": \"what are\",  \"what's\": \"what is\", \"what've\": \"what have\", \"when's\": \"when is\", \"when've\": \"when have\", \"where'd\": \"where did\", \"where's\": \"where is\", \"where've\": \"where have\", \"who'll\": \"who will\", \"who'll've\": \"who will have\", \"who's\": \"who is\", \"who've\": \"who have\", \"why's\": \"why is\", \"why've\": \"why have\", \"will've\": \"will have\", \"won't\": \"will not\", \"won't've\": \"will not have\", \"would've\": \"would have\", \"wouldn't\": \"would not\", \"wouldn't've\": \"would not have\", \"y'all\": \"you all\", \"y'all'd\": \"you all would\",\"y'all'd've\": \"you all would have\",\"y'all're\": \"you all are\",\"y'all've\": \"you all have\",\"you'd\": \"you would\", \"you'd've\": \"you would have\", \"you'll\": \"you will\", \"you'll've\": \"you will have\", \"you're\": \"you are\", \"you've\": \"you have\"}\n",
    "\n",
    "    def fit(self, X, y=None):\n",
    "        return self\n",
    "\n",
    "    def transform(self, X, *_):\n",
    "        X_copy = X.copy()\n",
    "\n",
    "        partitions = 1\n",
    "        cores = mp.cpu_count()\n",
    "        if self.n_jobs <= -1:\n",
    "            partitions = cores\n",
    "        elif self.n_jobs <= 0:\n",
    "            return X_copy.apply(self._preprocess_text)\n",
    "        else:\n",
    "            partitions = min(self.n_jobs, cores)\n",
    "\n",
    "        data_split = np.array_split(X_copy, partitions)\n",
    "        pool = mp.Pool(cores)\n",
    "        data = pd.concat(pool.map(self._preprocess_part, data_split))\n",
    "        pool.close()\n",
    "        pool.join()\n",
    "\n",
    "        return data\n",
    "\n",
    "    def _preprocess_part(self, part):\n",
    "        return part.apply(self._preprocess_text)\n",
    "\n",
    "    def _preprocess_text(self, text):\n",
    "        x = self._replace_contraction(text)\n",
    "        x = self._clean_numbers(x)\n",
    "        x = self._normalize(x)\n",
    "        x = nlp(str(x))\n",
    "        x = self._remove_punct(x)\n",
    "        x = self._remove_stop_words(x)\n",
    "        # NOTE: no lemmatization\n",
    "        return self._clean(x).lower()\n",
    "    \n",
    "    def _clean_numbers(self, x):\n",
    "        if bool(re.search(r'\\d', x)):\n",
    "            x = re.sub('[0-9]{5,}', '#####', x)\n",
    "            x = re.sub('[0-9]{4}', '####', x)\n",
    "            x = re.sub('[0-9]{3}', '###', x)\n",
    "            x = re.sub('[0-9]{2}', '##', x)\n",
    "        return x\n",
    "    \n",
    "    def _normalize(self, text):\n",
    "        try:\n",
    "            return ' '.join(normalise(text, variety=self.variety, user_abbrevs=self.user_abbrevs, verbose=False))\n",
    "        except:\n",
    "            return text\n",
    "    \n",
    "    def _replace_contraction(self, text):\n",
    "        contraction_re = re.compile('(%s)' % '|'.join(self.contraction_dict.keys()))\n",
    "        return contraction_re.sub(lambda x: self.contraction_dict[x.group(0)], text)\n",
    "    \n",
    "    def _remove_punct(self, doc):\n",
    "        return [t for t in doc if t.text not in string.punctuation]\n",
    "\n",
    "    def _remove_stop_words(self, doc):\n",
    "        return [t for t in doc if not t.is_stop]\n",
    "    \n",
    "    def _clean(self, doc):\n",
    "        return ' '.join([i.text for i in doc if i])\n",
    "\n",
    "    def _lemmatize(self, doc):\n",
    "        return ' '.join([t.lemma_ for t in doc])"
   ]
  },
  {
   "cell_type": "code",
   "execution_count": 20,
   "metadata": {},
   "outputs": [
    {
     "name": "stdout",
     "output_type": "stream",
     "text": [
      "CPU times: user 686 ms, sys: 67.9 ms, total: 754 ms\n",
      "Wall time: 754 ms\n"
     ]
    }
   ],
   "source": [
    "%%time\n",
    "\n",
    "if not (DATA_FOLDER/'reviews_clean.csv').exists():\n",
    "    text = TextPreprocessor(n_jobs=-1).transform(df.review)\n",
    "    df[\"clean_text\"] = text\n",
    "    df.to_csv(DATA_FOLDER/'reviews_clean.csv')\n",
    "df = pd.read_csv(DATA_FOLDER/'reviews_clean.csv').set_index(\"Unnamed: 0\").astype({\"clean_text\": str, \"condition\": str})"
   ]
  },
  {
   "cell_type": "code",
   "execution_count": 21,
   "metadata": {},
   "outputs": [
    {
     "data": {
      "text/html": [
       "<div>\n",
       "<style scoped>\n",
       "    .dataframe tbody tr th:only-of-type {\n",
       "        vertical-align: middle;\n",
       "    }\n",
       "\n",
       "    .dataframe tbody tr th {\n",
       "        vertical-align: top;\n",
       "    }\n",
       "\n",
       "    .dataframe thead th {\n",
       "        text-align: right;\n",
       "    }\n",
       "</style>\n",
       "<table border=\"1\" class=\"dataframe\">\n",
       "  <thead>\n",
       "    <tr style=\"text-align: right;\">\n",
       "      <th></th>\n",
       "      <th>review</th>\n",
       "      <th>condition</th>\n",
       "      <th>clean_text</th>\n",
       "    </tr>\n",
       "    <tr>\n",
       "      <th>Unnamed: 0</th>\n",
       "      <th></th>\n",
       "      <th></th>\n",
       "      <th></th>\n",
       "    </tr>\n",
       "  </thead>\n",
       "  <tbody>\n",
       "    <tr>\n",
       "      <th>40</th>\n",
       "      <td>This is so remedial.  Buy a Wilton magazine for less money and get more ideas and instructions for your investment.</td>\n",
       "      <td>1.0</td>\n",
       "      <td>remedial   buy wilton magazine money ideas instructions investment</td>\n",
       "    </tr>\n",
       "    <tr>\n",
       "      <th>120</th>\n",
       "      <td>I did sloppy shopping. This machine is exactly what the name says it is - a speller. I wanted definitions, OH, that would be a dictionary! I ordered a dictionary an I am happy - except the voice is scratchy. Life is not perfect.gg</td>\n",
       "      <td>1.0</td>\n",
       "      <td>sloppy shopping machine exactly says speller wanted definitions oh dictionary ordered dictionary happy voice scratchy life perfect.gg</td>\n",
       "    </tr>\n",
       "    <tr>\n",
       "      <th>127</th>\n",
       "      <td>If you type the wrong word in, it &amp;#34;might&amp;#34; produce the correct word.  It doesn't give any explanation of the meaning or how it can be used. I should have sent it bk., but I factored in the cost of return shipping - wasn't worth the return.</td>\n",
       "      <td>1.0</td>\n",
       "      <td>type wrong word produce correct word   explanation meaning sent bk factored cost return shipping worth return</td>\n",
       "    </tr>\n",
       "    <tr>\n",
       "      <th>139</th>\n",
       "      <td>I'm very disappointed in this device. It's basically just a coat hanger with two plastic guides.  The only thing it has going for it is portability.  It can only hold regular sized hard covered books. Forget about any size paperback, it will not work. Even hard cover books are nearly impossible to align correctly and they slip and slump in all kinds of odd positions.  Then you have to completely remove the book from the stand every time you need to turn a page and try to realign it all over again.  I tried with over 10 textbooks and it didn't do well with any of them.  For home reading I'm going to buy and suggest you buy a more substantial stand. The only reason to keep it is to slip in a backpack and take with you and hope you have the desk space wherever you take it to use it.</td>\n",
       "      <td>1.0</td>\n",
       "      <td>disappointed device basically coat hanger plastic guides   thing going portability   hold regular sized hard covered books forget size paperback work hard cover books nearly impossible align correctly slip slump kinds odd positions   completely remove book stand time need turn page try realign   tried textbooks   home reading going buy suggest buy substantial stand reason slip backpack hope desk space use</td>\n",
       "    </tr>\n",
       "    <tr>\n",
       "      <th>225</th>\n",
       "      <td>Can't chop anything well.  [Tried onions, tomatoes, celery, olives, nuts, and many other items.]  Tried 2, 4, and 8-oz loads.  Tried 1/8, 1/4, 1/2 cup loads.All you get is half mush and the other half \"as is\".I think it could \"mix\" 1/4 cup of cooked rice with a 1/2 cup of water ... but who needs that?This will be the last Cuisinart product I'll buy; their griddler, blender, and ice cream maker are poorly engineered too ... and I long ago stopped using them.</td>\n",
       "      <td>1.0</td>\n",
       "      <td>chop   tried onions tomatoes celery olives nuts items   tried 2 4 8-oz loads   tried 1/8 1/4 1/2 cup loads half mush half is\".i think mix 1/4 cup cooked rice 1/2 cup water ... needs that?this cuisinart product buy griddler blender ice cream maker poorly engineered ... long ago stopped</td>\n",
       "    </tr>\n",
       "    <tr>\n",
       "      <th>...</th>\n",
       "      <td>...</td>\n",
       "      <td>...</td>\n",
       "      <td>...</td>\n",
       "    </tr>\n",
       "    <tr>\n",
       "      <th>29729</th>\n",
       "      <td>This is a very good item for someone with small chopping jobs. Everything works fine very easy to clean very easy to the store</td>\n",
       "      <td>5.0</td>\n",
       "      <td>good item small chopping jobs works fine easy clean easy store</td>\n",
       "    </tr>\n",
       "    <tr>\n",
       "      <th>29730</th>\n",
       "      <td>i love this black and decker cup chopper. first the price 19.99 and second easy to clean. i thought to spend a couple of hundreds on a chopper but thanks god i found this.</td>\n",
       "      <td>5.0</td>\n",
       "      <td>love black decker cup chopper price second easy clean thought spend couple hundreds chopper thanks god found</td>\n",
       "    </tr>\n",
       "    <tr>\n",
       "      <th>29731</th>\n",
       "      <td>I have used this food chopper several times now, and I like the way it works. I have used it to chop ginger root, garlic, onions, peppers, and cherry tomatoes. I like the way I can control the amount of chopping such as in the case of the cherry tomatoes since I did not want to make them into a sauce but just chopped; this product gave me good control. The other food items were finely chopped, and the recipes came out great: talapia in lemon sauce, lemony salmon, and orange chicken. Spooning the chopped food out of the container was very easy, and the clean up was likewise. I appreciate the reviews that helped me select this item for our kitchen. Thanks.</td>\n",
       "      <td>5.0</td>\n",
       "      <td>food chopper times like way works chop ginger root garlic onions peppers cherry tomatoes like way control chopping case cherry tomatoes want sauce chopped product gave good control food items finely chopped recipes came great talapia lemon sauce lemony salmon orange chicken spooning chopped food container easy clean likewise appreciate reviews helped select item kitchen thanks</td>\n",
       "    </tr>\n",
       "    <tr>\n",
       "      <th>29732</th>\n",
       "      <td>its is small and although you have to shake up or mix up whatever you are chopping, it does a good job for what I need it for.</td>\n",
       "      <td>5.0</td>\n",
       "      <td>small shake mix chopping good job need</td>\n",
       "    </tr>\n",
       "    <tr>\n",
       "      <th>29735</th>\n",
       "      <td>I really love this food chopper.  It performs very well and is easy to clean.  It has two speeds and does a fine job of chopping just about anything!  I highly recommend this chopper.</td>\n",
       "      <td>5.0</td>\n",
       "      <td>love food chopper   performs easy clean   speeds fine job chopping   highly recommend chopper</td>\n",
       "    </tr>\n",
       "  </tbody>\n",
       "</table>\n",
       "<p>100000 rows × 3 columns</p>\n",
       "</div>"
      ],
      "text/plain": [
       "                                                                                                                                                                                                                                                                                                                                                                                                                                                                                                                                                                                                                                                                                                                                                                                                                            review condition  \\\n",
       "Unnamed: 0                                                                                                                                                                                                                                                                                                                                                                                                                                                                                                                                                                                                                                                                                                                                                                                                                                     \n",
       "40                                                                                                                                                                                                                                                                                                                                                                                                                                                                                                                                                                                                                                                                                                             This is so remedial.  Buy a Wilton magazine for less money and get more ideas and instructions for your investment.       1.0   \n",
       "120                                                                                                                                                                                                                                                                                                                                                                                                                                                                                                                                                                                         I did sloppy shopping. This machine is exactly what the name says it is - a speller. I wanted definitions, OH, that would be a dictionary! I ordered a dictionary an I am happy - except the voice is scratchy. Life is not perfect.gg       1.0   \n",
       "127                                                                                                                                                                                                                                                                                                                                                                                                                                                                                                                                                                         If you type the wrong word in, it &#34;might&#34; produce the correct word.  It doesn't give any explanation of the meaning or how it can be used. I should have sent it bk., but I factored in the cost of return shipping - wasn't worth the return.       1.0   \n",
       "139         I'm very disappointed in this device. It's basically just a coat hanger with two plastic guides.  The only thing it has going for it is portability.  It can only hold regular sized hard covered books. Forget about any size paperback, it will not work. Even hard cover books are nearly impossible to align correctly and they slip and slump in all kinds of odd positions.  Then you have to completely remove the book from the stand every time you need to turn a page and try to realign it all over again.  I tried with over 10 textbooks and it didn't do well with any of them.  For home reading I'm going to buy and suggest you buy a more substantial stand. The only reason to keep it is to slip in a backpack and take with you and hope you have the desk space wherever you take it to use it.       1.0   \n",
       "225                                                                                                                                                                                                                                                                                                                                                  Can't chop anything well.  [Tried onions, tomatoes, celery, olives, nuts, and many other items.]  Tried 2, 4, and 8-oz loads.  Tried 1/8, 1/4, 1/2 cup loads.All you get is half mush and the other half \"as is\".I think it could \"mix\" 1/4 cup of cooked rice with a 1/2 cup of water ... but who needs that?This will be the last Cuisinart product I'll buy; their griddler, blender, and ice cream maker are poorly engineered too ... and I long ago stopped using them.       1.0   \n",
       "...                                                                                                                                                                                                                                                                                                                                                                                                                                                                                                                                                                                                                                                                                                                                                                                                                            ...       ...   \n",
       "29729                                                                                                                                                                                                                                                                                                                                                                                                                                                                                                                                                                                                                                                                                               This is a very good item for someone with small chopping jobs. Everything works fine very easy to clean very easy to the store       5.0   \n",
       "29730                                                                                                                                                                                                                                                                                                                                                                                                                                                                                                                                                                                                                                                  i love this black and decker cup chopper. first the price 19.99 and second easy to clean. i thought to spend a couple of hundreds on a chopper but thanks god i found this.       5.0   \n",
       "29731                                                                                                                                       I have used this food chopper several times now, and I like the way it works. I have used it to chop ginger root, garlic, onions, peppers, and cherry tomatoes. I like the way I can control the amount of chopping such as in the case of the cherry tomatoes since I did not want to make them into a sauce but just chopped; this product gave me good control. The other food items were finely chopped, and the recipes came out great: talapia in lemon sauce, lemony salmon, and orange chicken. Spooning the chopped food out of the container was very easy, and the clean up was likewise. I appreciate the reviews that helped me select this item for our kitchen. Thanks.       5.0   \n",
       "29732                                                                                                                                                                                                                                                                                                                                                                                                                                                                                                                                                                                                                                                                                               its is small and although you have to shake up or mix up whatever you are chopping, it does a good job for what I need it for.       5.0   \n",
       "29735                                                                                                                                                                                                                                                                                                                                                                                                                                                                                                                                                                                                                                      I really love this food chopper.  It performs very well and is easy to clean.  It has two speeds and does a fine job of chopping just about anything!  I highly recommend this chopper.       5.0   \n",
       "\n",
       "                                                                                                                                                                                                                                                                                                                                                                                                                          clean_text  \n",
       "Unnamed: 0                                                                                                                                                                                                                                                                                                                                                                                                                            \n",
       "40                                                                                                                                                                                                                                                                                                                                                                remedial   buy wilton magazine money ideas instructions investment  \n",
       "120                                                                                                                                                                                                                                                                                            sloppy shopping machine exactly says speller wanted definitions oh dictionary ordered dictionary happy voice scratchy life perfect.gg  \n",
       "127                                                                                                                                                                                                                                                                                                                    type wrong word produce correct word   explanation meaning sent bk factored cost return shipping worth return  \n",
       "139         disappointed device basically coat hanger plastic guides   thing going portability   hold regular sized hard covered books forget size paperback work hard cover books nearly impossible align correctly slip slump kinds odd positions   completely remove book stand time need turn page try realign   tried textbooks   home reading going buy suggest buy substantial stand reason slip backpack hope desk space use  \n",
       "225                                                                                                                                    chop   tried onions tomatoes celery olives nuts items   tried 2 4 8-oz loads   tried 1/8 1/4 1/2 cup loads half mush half is\".i think mix 1/4 cup cooked rice 1/2 cup water ... needs that?this cuisinart product buy griddler blender ice cream maker poorly engineered ... long ago stopped  \n",
       "...                                                                                                                                                                                                                                                                                                                                                                                                                              ...  \n",
       "29729                                                                                                                                                                                                                                                                                                                                                                 good item small chopping jobs works fine easy clean easy store  \n",
       "29730                                                                                                                                                                                                                                                                                                                   love black decker cup chopper price second easy clean thought spend couple hundreds chopper thanks god found  \n",
       "29731                                    food chopper times like way works chop ginger root garlic onions peppers cherry tomatoes like way control chopping case cherry tomatoes want sauce chopped product gave good control food items finely chopped recipes came great talapia lemon sauce lemony salmon orange chicken spooning chopped food container easy clean likewise appreciate reviews helped select item kitchen thanks  \n",
       "29732                                                                                                                                                                                                                                                                                                                                                                                         small shake mix chopping good job need  \n",
       "29735                                                                                                                                                                                                                                                                                                                                  love food chopper   performs easy clean   speeds fine job chopping   highly recommend chopper  \n",
       "\n",
       "[100000 rows x 3 columns]"
      ]
     },
     "execution_count": 21,
     "metadata": {},
     "output_type": "execute_result"
    }
   ],
   "source": [
    "df"
   ]
  },
  {
   "cell_type": "code",
   "execution_count": null,
   "metadata": {},
   "outputs": [],
   "source": []
  },
  {
   "cell_type": "markdown",
   "metadata": {},
   "source": [
    "### Count tokens"
   ]
  },
  {
   "cell_type": "code",
   "execution_count": 14,
   "metadata": {},
   "outputs": [],
   "source": [
    "if not (DATA_FOLDER/'words_count.pkl').exists():\n",
    "    counter = Counter([w for s in df.clean_text.values for w in s.split()])\n",
    "    pickle.dump(counter, open(DATA_FOLDER/'words_count.pkl', 'wb'))\n",
    "counter = pickle.load(open(DATA_FOLDER/'words_count.pkl', 'rb'))"
   ]
  },
  {
   "cell_type": "code",
   "execution_count": 15,
   "metadata": {},
   "outputs": [
    {
     "data": {
      "text/plain": [
       "[('use', 46032),\n",
       " ('like', 36113),\n",
       " ('good', 26028),\n",
       " ('time', 25082),\n",
       " ('coffee', 21809),\n",
       " ('great', 21707),\n",
       " ('water', 19683),\n",
       " ('product', 18614),\n",
       " ('bought', 18040),\n",
       " ('little', 17552),\n",
       " ('...', 17197),\n",
       " ('clean', 14941),\n",
       " ('better', 14720),\n",
       " ('work', 14668),\n",
       " ('easy', 14282),\n",
       " ('small', 13806),\n",
       " ('plastic', 13749),\n",
       " ('years', 13744),\n",
       " ('buy', 12715),\n",
       " ('works', 12697)]"
      ]
     },
     "execution_count": 15,
     "metadata": {},
     "output_type": "execute_result"
    }
   ],
   "source": [
    "counter.most_common(20)"
   ]
  },
  {
   "cell_type": "markdown",
   "metadata": {},
   "source": [
    "### most common negative"
   ]
  },
  {
   "cell_type": "code",
   "execution_count": 52,
   "metadata": {},
   "outputs": [
    {
     "data": {
      "text/plain": [
       "[('use', 16205),\n",
       " ('like', 14190),\n",
       " ('time', 11023),\n",
       " ('product', 10061),\n",
       " ('good', 9860),\n",
       " ('coffee', 9184),\n",
       " ('water', 9059),\n",
       " ('bought', 8809),\n",
       " ('...', 8154),\n",
       " ('work', 7028),\n",
       " ('buy', 6655),\n",
       " ('plastic', 6419),\n",
       " ('better', 6341),\n",
       " ('great', 6260),\n",
       " ('thing', 6190),\n",
       " ('got', 5827),\n",
       " ('way', 5819),\n",
       " ('unit', 5732),\n",
       " ('amazon', 5530),\n",
       " ('2', 5431)]"
      ]
     },
     "execution_count": 52,
     "metadata": {},
     "output_type": "execute_result"
    }
   ],
   "source": [
    "Counter([w for s in df[df.condition.isin(['1.0', '2.0'])].clean_text.values for w in s.split()]).most_common(20)"
   ]
  },
  {
   "cell_type": "markdown",
   "metadata": {},
   "source": [
    "### most common positive"
   ]
  },
  {
   "cell_type": "code",
   "execution_count": 53,
   "metadata": {},
   "outputs": [
    {
     "data": {
      "text/plain": [
       "[('use', 21330),\n",
       " ('like', 14987),\n",
       " ('great', 13995),\n",
       " ('good', 12490),\n",
       " ('easy', 10375),\n",
       " ('time', 9598),\n",
       " ('coffee', 9411),\n",
       " ('little', 8599),\n",
       " ('clean', 7849),\n",
       " ('works', 7459),\n",
       " ('water', 7180),\n",
       " ('bought', 6894),\n",
       " ('love', 6840),\n",
       " ('years', 6702),\n",
       " ('pan', 6407),\n",
       " ('nice', 5800),\n",
       " ('product', 5715),\n",
       " ('set', 5644),\n",
       " ('...', 5580),\n",
       " ('small', 5536)]"
      ]
     },
     "execution_count": 53,
     "metadata": {},
     "output_type": "execute_result"
    }
   ],
   "source": [
    "Counter([w for s in df[df.condition.isin(['4.0', '5.0'])].clean_text.values for w in s.split()]).most_common(20)"
   ]
  },
  {
   "cell_type": "code",
   "execution_count": null,
   "metadata": {},
   "outputs": [],
   "source": []
  },
  {
   "cell_type": "code",
   "execution_count": null,
   "metadata": {},
   "outputs": [],
   "source": []
  },
  {
   "cell_type": "code",
   "execution_count": null,
   "metadata": {},
   "outputs": [],
   "source": []
  },
  {
   "cell_type": "markdown",
   "metadata": {},
   "source": [
    "## train/test split"
   ]
  },
  {
   "cell_type": "code",
   "execution_count": 24,
   "metadata": {},
   "outputs": [],
   "source": [
    "train_X, test_X, train_y, test_y = train_test_split(\n",
    "    df.clean_text.values, \n",
    "    df.condition.values,\n",
    "    stratify=df.condition.values, \n",
    "    test_size=0.25)"
   ]
  },
  {
   "cell_type": "code",
   "execution_count": 25,
   "metadata": {},
   "outputs": [
    {
     "name": "stdout",
     "output_type": "stream",
     "text": [
      "CPU times: user 7.81 s, sys: 1.44 s, total: 9.25 s\n",
      "Wall time: 9.24 s\n"
     ]
    }
   ],
   "source": [
    "%%time\n",
    "## Tokenize the sentences\n",
    "tokenizer = Tokenizer(num_words=VOCAB_SIZE)\n",
    "tokenizer.fit_on_texts(list(train_X.astype(str)))\n",
    "train_X = tokenizer.texts_to_sequences(train_X)\n",
    "test_X = tokenizer.texts_to_sequences(test_X)\n",
    "\n",
    "## Pad the sentences \n",
    "train_X = pad_sequences(train_X, maxlen=NN_MAX_REVIEW_LEN)\n",
    "test_X = pad_sequences(test_X, maxlen=NN_MAX_REVIEW_LEN)"
   ]
  },
  {
   "cell_type": "code",
   "execution_count": 26,
   "metadata": {},
   "outputs": [],
   "source": [
    "le = LabelEncoder()\n",
    "train_y = le.fit_transform(train_y)\n",
    "test_y = le.transform(test_y)"
   ]
  },
  {
   "cell_type": "code",
   "execution_count": 27,
   "metadata": {},
   "outputs": [
    {
     "data": {
      "text/plain": [
       "array(['1.0', '2.0', '3.0', '4.0', '5.0'], dtype=object)"
      ]
     },
     "execution_count": 27,
     "metadata": {},
     "output_type": "execute_result"
    }
   ],
   "source": [
    "le.classes_"
   ]
  },
  {
   "cell_type": "markdown",
   "metadata": {},
   "source": [
    "## load embeddings\n"
   ]
  },
  {
   "cell_type": "code",
   "execution_count": 22,
   "metadata": {},
   "outputs": [],
   "source": [
    "def load_glove(word_index):\n",
    "    \"\"\"\n",
    "    from https://www.kaggle.com/gmhost/gru-capsule\n",
    "    \"\"\"\n",
    "    \n",
    "    EMBEDDING_FILE = DATA_FOLDER / 'glove.840B.300d.txt'\n",
    "    \n",
    "    def get_coefs(word,*arr): \n",
    "        return word, np.asarray(arr, dtype='float32')[:300]\n",
    "    \n",
    "    embeddings_index = dict(get_coefs(*o.split(\" \")) for o in open(EMBEDDING_FILE))\n",
    "    \n",
    "    all_embs = np.stack(embeddings_index.values())\n",
    "    emb_mean,emb_std = -0.005838499,0.48782197\n",
    "    embed_size = all_embs.shape[1]\n",
    "\n",
    "    nb_words = min(VOCAB_SIZE, len(word_index)+1)\n",
    "    embedding_matrix = np.random.normal(emb_mean, emb_std, (nb_words, embed_size))\n",
    "    for word, i in word_index.items():\n",
    "        if i >= VOCAB_SIZE: continue\n",
    "        embedding_vector = embeddings_index.get(word)\n",
    "        if embedding_vector is not None: \n",
    "            embedding_matrix[i] = embedding_vector\n",
    "        else:\n",
    "            embedding_vector = embeddings_index.get(word.capitalize())\n",
    "            if embedding_vector is not None: \n",
    "                embedding_matrix[i] = embedding_vector\n",
    "    return embedding_matrix"
   ]
  },
  {
   "cell_type": "code",
   "execution_count": 23,
   "metadata": {},
   "outputs": [
    {
     "name": "stdout",
     "output_type": "stream",
     "text": [
      "CPU times: user 32.8 ms, sys: 136 ms, total: 168 ms\n",
      "Wall time: 168 ms\n"
     ]
    }
   ],
   "source": [
    "%%time\n",
    "if not (DATA_FOLDER/'glove.pkl').exists():\n",
    "    embedding_matrix = load_glove(tokenizer.word_index)\n",
    "    pickle.dump(embedding_matrix, open(DATA_FOLDER/'glove.pkl', 'wb'))\n",
    "    \n",
    "embedding_matrix = pickle.load(open(DATA_FOLDER/'glove.pkl', 'rb'))"
   ]
  },
  {
   "cell_type": "code",
   "execution_count": 59,
   "metadata": {},
   "outputs": [
    {
     "data": {
      "text/plain": [
       "(53640, 300)"
      ]
     },
     "execution_count": 59,
     "metadata": {},
     "output_type": "execute_result"
    }
   ],
   "source": [
    "embedding_matrix.shape"
   ]
  },
  {
   "cell_type": "code",
   "execution_count": null,
   "metadata": {},
   "outputs": [],
   "source": []
  },
  {
   "cell_type": "code",
   "execution_count": null,
   "metadata": {},
   "outputs": [],
   "source": []
  },
  {
   "cell_type": "code",
   "execution_count": 31,
   "metadata": {},
   "outputs": [
    {
     "name": "stdout",
     "output_type": "stream",
     "text": [
      "CUDA is available! Training on Tesla T4...\n"
     ]
    }
   ],
   "source": [
    "import torch\n",
    "import torch.nn as nn\n",
    "import torch.nn.functional as F\n",
    "from torch.autograd import Variable\n",
    "import torch.optim as optim\n",
    "\n",
    "train_on_gpu = torch.cuda.is_available()\n",
    "\n",
    "if train_on_gpu:\n",
    "    print(f\"CUDA is available! Training on {torch.cuda.get_device_name(0)}...\")\n",
    "    device = torch.device(\"cuda:0\")\n",
    "else:\n",
    "    print(\"CUDA is not available. Training on CPU...\")\n",
    "    device = 'cpu'"
   ]
  },
  {
   "cell_type": "code",
   "execution_count": null,
   "metadata": {},
   "outputs": [],
   "source": []
  },
  {
   "cell_type": "code",
   "execution_count": null,
   "metadata": {},
   "outputs": [],
   "source": []
  },
  {
   "cell_type": "markdown",
   "metadata": {},
   "source": [
    "\n",
    "## train TextCNN model\n",
    "Takes about 16minutes to train on full Home and Kitchen segment which contains ~550k reviews. When subset to 20k from each rating trains in about 35seconds per epoch\n"
   ]
  },
  {
   "cell_type": "code",
   "execution_count": 74,
   "metadata": {},
   "outputs": [],
   "source": [
    "class CNN_Text(nn.Module):\n",
    "    \n",
    "    def __init__(self):\n",
    "        super(CNN_Text, self).__init__()\n",
    "        filter_sizes = [1,2,3,5]\n",
    "        num_filters = 36\n",
    "        n_classes = len(le.classes_)\n",
    "        self.embedding = nn.Embedding(VOCAB_SIZE, EMBEDDING_SIZE)\n",
    "        self.embedding.weight = nn.Parameter(torch.tensor(embedding_matrix, dtype=torch.float32))\n",
    "        self.embedding.weight.requires_grad = False\n",
    "        self.convs1 = nn.ModuleList([nn.Conv2d(1, num_filters, (K, EMBEDDING_SIZE)) for K in filter_sizes])\n",
    "        self.dropout = nn.Dropout(0.1)\n",
    "        self.fc1 = nn.Linear(len(filter_sizes)*num_filters, n_classes)\n",
    "\n",
    "\n",
    "    def forward(self, x):\n",
    "        x = self.embedding(x)  \n",
    "        x = x.unsqueeze(1)  \n",
    "        x = [F.relu(conv(x)).squeeze(3) for conv in self.convs1] \n",
    "        x = [F.max_pool1d(i, i.size(2)).squeeze(2) for i in x]  \n",
    "        x = torch.cat(x, 1)\n",
    "        x = self.dropout(x)  \n",
    "        logit = self.fc1(x) \n",
    "        return logit\n",
    "\n",
    "def clip_gradient(model, clip_value):\n",
    "    params = list(filter(lambda p: p.grad is not None, model.parameters()))\n",
    "    for p in params:\n",
    "        p.grad.data.clamp_(-clip_value, clip_value)"
   ]
  },
  {
   "cell_type": "code",
   "execution_count": 34,
   "metadata": {},
   "outputs": [],
   "source": [
    "n_epochs = 10\n",
    "batch_size = 512"
   ]
  },
  {
   "cell_type": "code",
   "execution_count": 76,
   "metadata": {},
   "outputs": [
    {
     "name": "stderr",
     "output_type": "stream",
     "text": [
      "/home/ubuntu/anaconda3/envs/pytorch_p36/lib/python3.6/site-packages/ipykernel/__main__.py:51: UserWarning: Implicit dimension choice for softmax has been deprecated. Change the call to include dim=X as an argument.\n"
     ]
    },
    {
     "name": "stdout",
     "output_type": "stream",
     "text": [
      "Epoch 1/10 \t loss=687.8725 \t val_loss=627.9044  \t val_acc=0.4720  \t time=8.71s\n",
      "Epoch 2/10 \t loss=608.7945 \t val_loss=601.2280  \t val_acc=0.4895  \t time=8.42s\n",
      "Epoch 3/10 \t loss=579.2513 \t val_loss=590.5663  \t val_acc=0.4964  \t time=8.52s\n",
      "Epoch 4/10 \t loss=557.5950 \t val_loss=584.5860  \t val_acc=0.5006  \t time=8.93s\n",
      "Epoch 5/10 \t loss=539.8556 \t val_loss=580.1081  \t val_acc=0.5038  \t time=8.57s\n",
      "Epoch 6/10 \t loss=523.3080 \t val_loss=581.1037  \t val_acc=0.5038  \t time=8.54s\n",
      "Epoch 7/10 \t loss=508.2051 \t val_loss=578.4142  \t val_acc=0.5092  \t time=9.00s\n",
      "Epoch 8/10 \t loss=493.9603 \t val_loss=581.6347  \t val_acc=0.5053  \t time=8.76s\n",
      "Epoch 9/10 \t loss=480.5950 \t val_loss=583.4449  \t val_acc=0.5062  \t time=8.92s\n",
      "Epoch 10/10 \t loss=469.3722 \t val_loss=591.2291  \t val_acc=0.5007  \t time=9.08s\n"
     ]
    }
   ],
   "source": [
    "model = CNN_Text()\n",
    "loss_fn = nn.CrossEntropyLoss(reduction='sum')\n",
    "optimizer = torch.optim.Adam(filter(lambda p: p.requires_grad, model.parameters()), lr=0.001)\n",
    "model.cuda()\n",
    "\n",
    "# Load train and test in CUDA Memory\n",
    "x_train = torch.tensor(train_X, dtype=torch.long).cuda()\n",
    "y_train = torch.tensor(train_y, dtype=torch.long).cuda()\n",
    "x_cv = torch.tensor(test_X, dtype=torch.long).cuda()\n",
    "y_cv = torch.tensor(test_y, dtype=torch.long).cuda()\n",
    "\n",
    "# Create Torch datasets\n",
    "train = torch.utils.data.TensorDataset(x_train, y_train)\n",
    "valid = torch.utils.data.TensorDataset(x_cv, y_cv)\n",
    "\n",
    "# Create Data Loaders\n",
    "train_loader = torch.utils.data.DataLoader(train, batch_size=batch_size, shuffle=True)\n",
    "valid_loader = torch.utils.data.DataLoader(valid, batch_size=batch_size, shuffle=False)\n",
    "\n",
    "train_loss = []\n",
    "valid_loss = []\n",
    "\n",
    "for epoch in range(n_epochs):\n",
    "    start_time = time.time()\n",
    "    # Set model to train configuration\n",
    "    model.train()\n",
    "    avg_loss = 0.  \n",
    "    for i, (x_batch, y_batch) in enumerate(train_loader):\n",
    "        # Predict/Forward Pass\n",
    "        y_pred = model(x_batch)\n",
    "        # Compute loss\n",
    "        loss = loss_fn(y_pred, y_batch)\n",
    "        optimizer.zero_grad()\n",
    "        loss.backward()\n",
    "        clip_gradient(model, 1e-1)\n",
    "        optimizer.step()\n",
    "        avg_loss += loss.item() / len(train_loader)\n",
    "    \n",
    "    # Set model to validation configuration -Doesn't get trained here\n",
    "    model.eval()        \n",
    "    avg_val_loss = 0.\n",
    "    val_preds = np.zeros((len(x_cv),len(le.classes_)))\n",
    "    \n",
    "    for i, (x_batch, y_batch) in enumerate(valid_loader):\n",
    "        y_pred = model(x_batch).detach()\n",
    "        avg_val_loss += loss_fn(y_pred, y_batch).item() / len(valid_loader)\n",
    "        # keep/store predictions\n",
    "        val_preds[i * batch_size:(i+1) * batch_size] = F.softmax(y_pred).cpu().numpy()\n",
    "    \n",
    "    # Check Accuracy\n",
    "    val_accuracy = sum(val_preds.argmax(axis=1)==test_y)/len(test_y)\n",
    "    train_loss.append(avg_loss)\n",
    "    valid_loss.append(avg_val_loss)\n",
    "    elapsed_time = time.time() - start_time \n",
    "    print('Epoch {}/{} \\t loss={:.4f} \\t val_loss={:.4f}  \\t val_acc={:.4f}  \\t time={:.2f}s'.format(\n",
    "                epoch + 1, n_epochs, avg_loss, avg_val_loss, val_accuracy, elapsed_time))\n"
   ]
  },
  {
   "cell_type": "code",
   "execution_count": 77,
   "metadata": {},
   "outputs": [
    {
     "name": "stderr",
     "output_type": "stream",
     "text": [
      "/home/ubuntu/anaconda3/envs/pytorch_p36/lib/python3.6/site-packages/torch/serialization.py:360: UserWarning: Couldn't retrieve source code for container of type CNN_Text. It won't be checked for correctness upon loading.\n",
      "  \"type \" + obj.__name__ + \". It won't be checked \"\n"
     ]
    }
   ],
   "source": [
    "torch.save(model,'amazon_balanced_textcnn_model')"
   ]
  },
  {
   "cell_type": "code",
   "execution_count": 37,
   "metadata": {},
   "outputs": [],
   "source": [
    "def plot_graph(epochs):\n",
    "    fig = plt.figure(figsize=(12,12))\n",
    "    plt.title(\"Train/Validation Loss\")\n",
    "    plt.plot(list(np.arange(epochs) + 1) , train_loss, label='train')\n",
    "    plt.plot(list(np.arange(epochs) + 1), valid_loss, label='validation')\n",
    "    plt.xlabel('num_epochs', fontsize=12)\n",
    "    plt.ylabel('loss', fontsize=12)\n",
    "    plt.legend(loc='best')"
   ]
  },
  {
   "cell_type": "code",
   "execution_count": 79,
   "metadata": {},
   "outputs": [
    {
     "data": {
      "image/png": "[encoded data removed]",
      "text/plain": [
       "<Figure size 864x864 with 1 Axes>"
      ]
     },
     "metadata": {
      "needs_background": "light"
     },
     "output_type": "display_data"
    }
   ],
   "source": [
    "plot_graph(n_epochs)"
   ]
  },
  {
   "cell_type": "code",
   "execution_count": 83,
   "metadata": {},
   "outputs": [
    {
     "data": {
      "text/plain": [
       "<matplotlib.axes._subplots.AxesSubplot at 0x7f848f5b7fd0>"
      ]
     },
     "execution_count": 83,
     "metadata": {},
     "output_type": "execute_result"
    },
    {
     "data": {
      "image/png": "[encoded data removed]",
      "text/plain": [
       "<Figure size 864x864 with 2 Axes>"
      ]
     },
     "metadata": {
      "needs_background": "light"
     },
     "output_type": "display_data"
    }
   ],
   "source": [
    "y_true = [le.classes_[x] for x in test_y]\n",
    "y_pred = [le.classes_[x] for x in val_preds.argmax(axis=1)]\n",
    "skplt.metrics.plot_confusion_matrix(\n",
    "    y_true, \n",
    "    y_pred,\n",
    "    figsize=(12,12),x_tick_rotation=90)"
   ]
  },
  {
   "cell_type": "code",
   "execution_count": 94,
   "metadata": {},
   "outputs": [
    {
     "name": "stdout",
     "output_type": "stream",
     "text": [
      "<<Bidirectional LSTM classification>> \n",
      "\n",
      "              precision    recall  f1-score   support\n",
      "\n",
      "         1.0       0.58      0.50      0.54      5000\n",
      "         2.0       0.38      0.39      0.39      5000\n",
      "         3.0       0.37      0.37      0.37      5000\n",
      "         4.0       0.44      0.48      0.46      5000\n",
      "         5.0       0.64      0.65      0.64      5000\n",
      "\n",
      "    accuracy                           0.48     25000\n",
      "   macro avg       0.48      0.48      0.48     25000\n",
      "weighted avg       0.48      0.48      0.48     25000\n",
      "\n"
     ]
    }
   ],
   "source": [
    "print(\"<<Bidirectional LSTM classification>> \\n\")\n",
    "print(classification_report(y_true,y_pred))"
   ]
  },
  {
   "cell_type": "markdown",
   "metadata": {},
   "source": [
    "# Pytorch Model - BiLSTM\n"
   ]
  },
  {
   "cell_type": "code",
   "execution_count": 32,
   "metadata": {},
   "outputs": [],
   "source": [
    "class BiLSTM(nn.Module):\n",
    "    \n",
    "    def __init__(self):\n",
    "        super(BiLSTM, self).__init__()\n",
    "        self.hidden_size = 64\n",
    "        drp = 0.1\n",
    "        n_classes = len(le.classes_)\n",
    "        self.embedding = nn.Embedding(VOCAB_SIZE, EMBEDDING_SIZE)\n",
    "        self.embedding.weight = nn.Parameter(torch.tensor(embedding_matrix, dtype=torch.float32))\n",
    "        self.embedding.weight.requires_grad = False\n",
    "        self.lstm = nn.LSTM(EMBEDDING_SIZE, self.hidden_size, bidirectional=True, batch_first=True)\n",
    "        self.linear = nn.Linear(self.hidden_size*4 , 64)\n",
    "        self.relu = nn.ReLU()\n",
    "        self.dropout = nn.Dropout(drp)\n",
    "        self.out = nn.Linear(64, n_classes)\n",
    "\n",
    "\n",
    "    def forward(self, x):\n",
    "        #rint(x.size())\n",
    "        h_embedding = self.embedding(x)\n",
    "        #_embedding = torch.squeeze(torch.unsqueeze(h_embedding, 0))\n",
    "        h_lstm, _ = self.lstm(h_embedding)\n",
    "        avg_pool = torch.mean(h_lstm, 1)\n",
    "        max_pool, _ = torch.max(h_lstm, 1)\n",
    "        conc = torch.cat(( avg_pool, max_pool), 1)\n",
    "        conc = self.relu(self.linear(conc))\n",
    "        conc = self.dropout(conc)\n",
    "        out = self.out(conc)\n",
    "        return out"
   ]
  },
  {
   "cell_type": "code",
   "execution_count": 35,
   "metadata": {},
   "outputs": [
    {
     "name": "stderr",
     "output_type": "stream",
     "text": [
      "/home/ubuntu/anaconda3/envs/pytorch_p36/lib/python3.6/site-packages/ipykernel/__main__.py:48: UserWarning: Implicit dimension choice for softmax has been deprecated. Change the call to include dim=X as an argument.\n"
     ]
    },
    {
     "name": "stdout",
     "output_type": "stream",
     "text": [
      "Epoch 1/30 \t loss=775.2714 \t val_loss=710.0168  \t val_acc=0.3810  \t time=6.24s\n",
      "Epoch 2/30 \t loss=671.4873 \t val_loss=647.0993  \t val_acc=0.4328  \t time=5.84s\n",
      "Epoch 3/30 \t loss=625.1856 \t val_loss=626.6615  \t val_acc=0.4541  \t time=5.89s\n",
      "Epoch 4/30 \t loss=597.7531 \t val_loss=613.3324  \t val_acc=0.4639  \t time=6.22s\n",
      "Epoch 5/30 \t loss=575.0175 \t val_loss=605.4245  \t val_acc=0.4745  \t time=5.94s\n",
      "Epoch 6/30 \t loss=555.8821 \t val_loss=606.5428  \t val_acc=0.4710  \t time=6.01s\n",
      "Epoch 7/30 \t loss=542.0326 \t val_loss=601.7699  \t val_acc=0.4809  \t time=6.34s\n",
      "Epoch 8/30 \t loss=522.5522 \t val_loss=608.6942  \t val_acc=0.4773  \t time=6.08s\n",
      "Epoch 9/30 \t loss=505.0505 \t val_loss=610.0180  \t val_acc=0.4793  \t time=6.39s\n",
      "Epoch 10/30 \t loss=489.7997 \t val_loss=636.0613  \t val_acc=0.4694  \t time=6.07s\n",
      "Epoch 11/30 \t loss=473.5656 \t val_loss=636.2825  \t val_acc=0.4737  \t time=6.43s\n",
      "Epoch 12/30 \t loss=457.6684 \t val_loss=649.6199  \t val_acc=0.4735  \t time=6.16s\n",
      "Epoch 13/30 \t loss=441.6012 \t val_loss=653.1752  \t val_acc=0.4764  \t time=6.18s\n",
      "Epoch 14/30 \t loss=423.8771 \t val_loss=681.9028  \t val_acc=0.4688  \t time=6.50s\n",
      "Epoch 15/30 \t loss=411.5946 \t val_loss=719.5524  \t val_acc=0.4563  \t time=6.23s\n",
      "Epoch 16/30 \t loss=391.2840 \t val_loss=718.2594  \t val_acc=0.4621  \t time=6.31s\n",
      "Epoch 17/30 \t loss=377.7968 \t val_loss=721.8019  \t val_acc=0.4693  \t time=6.65s\n",
      "Epoch 18/30 \t loss=364.1790 \t val_loss=755.1642  \t val_acc=0.4578  \t time=6.43s\n",
      "Epoch 19/30 \t loss=348.1694 \t val_loss=774.9789  \t val_acc=0.4602  \t time=6.72s\n",
      "Epoch 20/30 \t loss=333.8779 \t val_loss=812.8184  \t val_acc=0.4582  \t time=6.53s\n",
      "Epoch 21/30 \t loss=320.3835 \t val_loss=832.7554  \t val_acc=0.4600  \t time=6.63s\n",
      "Epoch 22/30 \t loss=303.5193 \t val_loss=867.5349  \t val_acc=0.4587  \t time=6.97s\n",
      "Epoch 23/30 \t loss=290.2222 \t val_loss=929.5595  \t val_acc=0.4460  \t time=6.71s\n",
      "Epoch 24/30 \t loss=276.7537 \t val_loss=948.4422  \t val_acc=0.4478  \t time=7.03s\n",
      "Epoch 25/30 \t loss=271.0526 \t val_loss=961.2704  \t val_acc=0.4514  \t time=6.73s\n",
      "Epoch 26/30 \t loss=249.5760 \t val_loss=1018.7717  \t val_acc=0.4536  \t time=6.73s\n",
      "Epoch 27/30 \t loss=236.7440 \t val_loss=1151.5019  \t val_acc=0.4373  \t time=7.06s\n",
      "Epoch 28/30 \t loss=227.1988 \t val_loss=1089.2116  \t val_acc=0.4514  \t time=6.72s\n",
      "Epoch 29/30 \t loss=218.4493 \t val_loss=1173.1052  \t val_acc=0.4454  \t time=6.73s\n",
      "Epoch 30/30 \t loss=203.6790 \t val_loss=1207.3076  \t val_acc=0.4423  \t time=7.09s\n"
     ]
    }
   ],
   "source": [
    "n_epochs = 30\n",
    "model = BiLSTM()\n",
    "loss_fn = nn.CrossEntropyLoss(reduction='sum')\n",
    "optimizer = torch.optim.Adam(filter(lambda p: p.requires_grad, model.parameters()), lr=0.001)\n",
    "model.cuda()\n",
    "\n",
    "# Load train and test in CUDA Memory\n",
    "x_train = torch.tensor(train_X, dtype=torch.long).cuda()\n",
    "y_train = torch.tensor(train_y, dtype=torch.long).cuda()\n",
    "x_cv = torch.tensor(test_X, dtype=torch.long).cuda()\n",
    "y_cv = torch.tensor(test_y, dtype=torch.long).cuda()\n",
    "\n",
    "# Create Torch datasets\n",
    "train = torch.utils.data.TensorDataset(x_train, y_train)\n",
    "valid = torch.utils.data.TensorDataset(x_cv, y_cv)\n",
    "\n",
    "# Create Data Loaders\n",
    "train_loader = torch.utils.data.DataLoader(train, batch_size=batch_size, shuffle=True)\n",
    "valid_loader = torch.utils.data.DataLoader(valid, batch_size=batch_size, shuffle=False)\n",
    "\n",
    "train_loss = []\n",
    "valid_loss = []\n",
    "\n",
    "for epoch in range(n_epochs):\n",
    "    start_time = time.time()\n",
    "    # Set model to train configuration\n",
    "    model.train()\n",
    "    avg_loss = 0.  \n",
    "    for i, (x_batch, y_batch) in enumerate(train_loader):\n",
    "        # Predict/Forward Pass\n",
    "        y_pred = model(x_batch)\n",
    "        # Compute loss\n",
    "        loss = loss_fn(y_pred, y_batch)\n",
    "        optimizer.zero_grad()\n",
    "        loss.backward()\n",
    "        optimizer.step()\n",
    "        avg_loss += loss.item() / len(train_loader)\n",
    "    \n",
    "    # Set model to validation configuration -Doesn't get trained here\n",
    "    model.eval()        \n",
    "    avg_val_loss = 0.\n",
    "    val_preds = np.zeros((len(x_cv),len(le.classes_)))\n",
    "    \n",
    "    for i, (x_batch, y_batch) in enumerate(valid_loader):\n",
    "        y_pred = model(x_batch).detach()\n",
    "        avg_val_loss += loss_fn(y_pred, y_batch).item() / len(valid_loader)\n",
    "        # keep/store predictions\n",
    "        val_preds[i * batch_size:(i+1) * batch_size] =F.softmax(y_pred).cpu().numpy()\n",
    "    \n",
    "    # Check Accuracy\n",
    "    val_accuracy = sum(val_preds.argmax(axis=1)==test_y)/len(test_y)\n",
    "    train_loss.append(avg_loss)\n",
    "    valid_loss.append(avg_val_loss)\n",
    "    elapsed_time = time.time() - start_time \n",
    "    print('Epoch {}/{} \\t loss={:.4f} \\t val_loss={:.4f}  \\t val_acc={:.4f}  \\t time={:.2f}s'.format(\n",
    "                epoch + 1, n_epochs, avg_loss, avg_val_loss, val_accuracy, elapsed_time))"
   ]
  },
  {
   "cell_type": "code",
   "execution_count": null,
   "metadata": {},
   "outputs": [],
   "source": []
  },
  {
   "cell_type": "code",
   "execution_count": 38,
   "metadata": {},
   "outputs": [
    {
     "data": {
      "image/png": "[encoded data removed]",
      "text/plain": [
       "<Figure size 864x864 with 1 Axes>"
      ]
     },
     "metadata": {
      "needs_background": "light"
     },
     "output_type": "display_data"
    }
   ],
   "source": [
    "plot_graph(n_epochs)"
   ]
  },
  {
   "cell_type": "code",
   "execution_count": 92,
   "metadata": {},
   "outputs": [
    {
     "name": "stderr",
     "output_type": "stream",
     "text": [
      "/home/ubuntu/anaconda3/envs/pytorch_p36/lib/python3.6/site-packages/torch/serialization.py:360: UserWarning: Couldn't retrieve source code for container of type BiLSTM. It won't be checked for correctness upon loading.\n",
      "  \"type \" + obj.__name__ + \". It won't be checked \"\n"
     ]
    }
   ],
   "source": [
    "torch.save(model,'amazon_balanced_bilstm_model')"
   ]
  },
  {
   "cell_type": "code",
   "execution_count": null,
   "metadata": {},
   "outputs": [],
   "source": []
  },
  {
   "cell_type": "code",
   "execution_count": 39,
   "metadata": {},
   "outputs": [
    {
     "data": {
      "text/plain": [
       "<matplotlib.axes._subplots.AxesSubplot at 0x7fb57b61e710>"
      ]
     },
     "execution_count": 39,
     "metadata": {},
     "output_type": "execute_result"
    },
    {
     "data": {
      "image/png": "[encoded data removed]",
      "text/plain": [
       "<Figure size 864x864 with 2 Axes>"
      ]
     },
     "metadata": {
      "needs_background": "light"
     },
     "output_type": "display_data"
    }
   ],
   "source": [
    "y_true = [le.classes_[x] for x in test_y]\n",
    "y_pred = [le.classes_[x] for x in val_preds.argmax(axis=1)]\n",
    "skplt.metrics.plot_confusion_matrix(\n",
    "    y_true, \n",
    "    y_pred,\n",
    "    figsize=(12,12),x_tick_rotation=90)"
   ]
  },
  {
   "cell_type": "code",
   "execution_count": 40,
   "metadata": {},
   "outputs": [
    {
     "name": "stdout",
     "output_type": "stream",
     "text": [
      "<<Bidirectional LSTM classification>> \n",
      "\n",
      "              precision    recall  f1-score   support\n",
      "\n",
      "         1.0       0.54      0.48      0.51      5000\n",
      "         2.0       0.34      0.40      0.37      5000\n",
      "         3.0       0.34      0.37      0.36      5000\n",
      "         4.0       0.42      0.42      0.42      5000\n",
      "         5.0       0.63      0.54      0.58      5000\n",
      "\n",
      "    accuracy                           0.44     25000\n",
      "   macro avg       0.45      0.44      0.45     25000\n",
      "weighted avg       0.45      0.44      0.45     25000\n",
      "\n"
     ]
    }
   ],
   "source": [
    "print(\"<<Bidirectional LSTM classification>> \\n\")\n",
    "print(classification_report(y_true,y_pred))"
   ]
  },
  {
   "cell_type": "markdown",
   "metadata": {},
   "source": [
    "## Deploy : Predict A Single Example"
   ]
  },
  {
   "cell_type": "code",
   "execution_count": 134,
   "metadata": {},
   "outputs": [],
   "source": [
    "def predict_single(x):\n",
    "    \n",
    "    x = TextPreprocessor(n_jobs=1).transform( pd.DataFrame.from_dict({\"review\": [x]}).review).values[0]\n",
    "    # tokenize\n",
    "    x = tokenizer.texts_to_sequences([x])\n",
    "    # pad\n",
    "    x = pad_sequences(x, maxlen=NN_MAX_REVIEW_LEN)\n",
    "    # create dataset\n",
    "    x = torch.tensor(x, dtype=torch.long).cuda()\n",
    "\n",
    "    pred = model(x).detach()\n",
    "    pred = F.softmax(pred).cpu().numpy()\n",
    "\n",
    "    pred = pred.argmax(axis=1)\n",
    "\n",
    "    pred = le.classes_[pred]\n",
    "    return pred[0]\n"
   ]
  },
  {
   "cell_type": "code",
   "execution_count": 138,
   "metadata": {},
   "outputs": [
    {
     "data": {
      "text/plain": [
       "review        This blender is unreliable and does not work well for smoothies (our main use for a blender). When the cutter assembly broke (after ~20 uses) I contacted Cuisinart about a warranty replacement. Since the blender was purchased as a gift (from our wedding registry), we did not have \"proof of purchase\" and Cuisinart did not honor the 3-year warranty.We purchased a replacement part from CuisinartWebstore.com (~$21 with shipping) and got through another ~10 uses before that cutter assembly broke as well. This time with a proof of purchase in hand I called cuisinart customer \"service\" again only to learn they do not warranty items bought at the webstore (i.e. the replacement part had no warranty).If we could rate a company / brand here as well I would give one star to Cuisinart (i.e. Conair) for their shoddy product quality and poor customer service.\n",
       "condition                                                                                                                                                                                                                                                                                                                                                                                                                                                                                                                                                                                                                                                                                                                                                                                                                                                                                          1.0\n",
       "clean_text                                                                                                                                                                                                                                                                                                                                                               blender unreliable work smoothies main use blender cutter assembly broke uses contacted Cuisinart warranty replacement blender purchased gift wedding registry proof purchase Cuisinart honor 3-year warranty purchased replacement CuisinartWebstore.com ~$ shipping got uses cutter assembly broke time proof purchase hand called cuisinart customer service learn warranty items bought webstore i.e. replacement warranty).If rate company brand star Cuisinart i.e. Conair shoddy product quality poor customer service\n",
       "Name: 329, dtype: object"
      ]
     },
     "execution_count": 138,
     "metadata": {},
     "output_type": "execute_result"
    }
   ],
   "source": [
    "df.iloc[20]"
   ]
  },
  {
   "cell_type": "code",
   "execution_count": 142,
   "metadata": {},
   "outputs": [
    {
     "data": {
      "text/plain": [
       "review        My daughter wanted this book and the price on Amazon was the best.  She has already tried one recipe a day after receiving the book.  She seems happy with it.\n",
       "condition                                                                                                                                                                5.0\n",
       "clean_text                                                                                  daughter wanted book price Amazon best   tried recipe day receiving book   happy\n",
       "Name: 0, dtype: object"
      ]
     },
     "execution_count": 142,
     "metadata": {},
     "output_type": "execute_result"
    }
   ],
   "source": [
    "df.iloc[80000]"
   ]
  },
  {
   "cell_type": "code",
   "execution_count": 139,
   "metadata": {},
   "outputs": [
    {
     "name": "stderr",
     "output_type": "stream",
     "text": [
      "/home/ubuntu/anaconda3/envs/pytorch_p36/lib/python3.6/site-packages/ipykernel/__main__.py:12: UserWarning: Implicit dimension choice for softmax has been deprecated. Change the call to include dim=X as an argument.\n"
     ]
    },
    {
     "data": {
      "text/plain": [
       "'1.0'"
      ]
     },
     "execution_count": 139,
     "metadata": {},
     "output_type": "execute_result"
    }
   ],
   "source": [
    "predict_single(df.iloc[20].review)"
   ]
  },
  {
   "cell_type": "code",
   "execution_count": 143,
   "metadata": {},
   "outputs": [
    {
     "name": "stderr",
     "output_type": "stream",
     "text": [
      "/home/ubuntu/anaconda3/envs/pytorch_p36/lib/python3.6/site-packages/ipykernel/__main__.py:12: UserWarning: Implicit dimension choice for softmax has been deprecated. Change the call to include dim=X as an argument.\n"
     ]
    },
    {
     "data": {
      "text/plain": [
       "'5.0'"
      ]
     },
     "execution_count": 143,
     "metadata": {},
     "output_type": "execute_result"
    }
   ],
   "source": [
    "predict_single(df.iloc[80000].review)"
   ]
  },
  {
   "cell_type": "code",
   "execution_count": null,
   "metadata": {},
   "outputs": [],
   "source": []
  },
  {
   "cell_type": "code",
   "execution_count": null,
   "metadata": {},
   "outputs": [],
   "source": []
  },
  {
   "cell_type": "markdown",
   "metadata": {},
   "source": [
    "## Transformers model"
   ]
  },
  {
   "cell_type": "code",
   "execution_count": null,
   "metadata": {},
   "outputs": [],
   "source": []
  },
  {
   "cell_type": "code",
   "execution_count": null,
   "metadata": {},
   "outputs": [],
   "source": []
  },
  {
   "cell_type": "code",
   "execution_count": 41,
   "metadata": {},
   "outputs": [],
   "source": [
    "# # Converting the codes to appropriate categories using a dictionary\n",
    "my_dict = {\n",
    "    '1.0':'one',\n",
    "    '2.0':'two',\n",
    "    '3.0':'three',\n",
    "    '4.0':'four',\n",
    "    '5.0':'five',\n",
    "}"
   ]
  },
  {
   "cell_type": "code",
   "execution_count": 42,
   "metadata": {},
   "outputs": [],
   "source": [
    "df['condition'] = df['condition'].apply(lambda x: my_dict[x])"
   ]
  },
  {
   "cell_type": "code",
   "execution_count": 43,
   "metadata": {},
   "outputs": [],
   "source": [
    "encode_dict = {}\n",
    "def encode_cat(x):\n",
    "    if x not in encode_dict.keys():\n",
    "        encode_dict[x]=len(encode_dict)\n",
    "    return encode_dict[x]\n",
    "\n",
    "df['condition_enc'] = df['condition'].apply(lambda x: encode_cat(x))"
   ]
  },
  {
   "cell_type": "code",
   "execution_count": 44,
   "metadata": {},
   "outputs": [
    {
     "data": {
      "text/html": [
       "<div>\n",
       "<style scoped>\n",
       "    .dataframe tbody tr th:only-of-type {\n",
       "        vertical-align: middle;\n",
       "    }\n",
       "\n",
       "    .dataframe tbody tr th {\n",
       "        vertical-align: top;\n",
       "    }\n",
       "\n",
       "    .dataframe thead th {\n",
       "        text-align: right;\n",
       "    }\n",
       "</style>\n",
       "<table border=\"1\" class=\"dataframe\">\n",
       "  <thead>\n",
       "    <tr style=\"text-align: right;\">\n",
       "      <th></th>\n",
       "      <th>review</th>\n",
       "      <th>condition</th>\n",
       "      <th>clean_text</th>\n",
       "      <th>condition_enc</th>\n",
       "    </tr>\n",
       "    <tr>\n",
       "      <th>Unnamed: 0</th>\n",
       "      <th></th>\n",
       "      <th></th>\n",
       "      <th></th>\n",
       "      <th></th>\n",
       "    </tr>\n",
       "  </thead>\n",
       "  <tbody>\n",
       "    <tr>\n",
       "      <th>40</th>\n",
       "      <td>This is so remedial.  Buy a Wilton magazine for less money and get more ideas and instructions for your investment.</td>\n",
       "      <td>one</td>\n",
       "      <td>remedial   buy wilton magazine money ideas instructions investment</td>\n",
       "      <td>0</td>\n",
       "    </tr>\n",
       "    <tr>\n",
       "      <th>120</th>\n",
       "      <td>I did sloppy shopping. This machine is exactly what the name says it is - a speller. I wanted definitions, OH, that would be a dictionary! I ordered a dictionary an I am happy - except the voice is scratchy. Life is not perfect.gg</td>\n",
       "      <td>one</td>\n",
       "      <td>sloppy shopping machine exactly says speller wanted definitions oh dictionary ordered dictionary happy voice scratchy life perfect.gg</td>\n",
       "      <td>0</td>\n",
       "    </tr>\n",
       "    <tr>\n",
       "      <th>127</th>\n",
       "      <td>If you type the wrong word in, it &amp;#34;might&amp;#34; produce the correct word.  It doesn't give any explanation of the meaning or how it can be used. I should have sent it bk., but I factored in the cost of return shipping - wasn't worth the return.</td>\n",
       "      <td>one</td>\n",
       "      <td>type wrong word produce correct word   explanation meaning sent bk factored cost return shipping worth return</td>\n",
       "      <td>0</td>\n",
       "    </tr>\n",
       "    <tr>\n",
       "      <th>139</th>\n",
       "      <td>I'm very disappointed in this device. It's basically just a coat hanger with two plastic guides.  The only thing it has going for it is portability.  It can only hold regular sized hard covered books. Forget about any size paperback, it will not work. Even hard cover books are nearly impossible to align correctly and they slip and slump in all kinds of odd positions.  Then you have to completely remove the book from the stand every time you need to turn a page and try to realign it all over again.  I tried with over 10 textbooks and it didn't do well with any of them.  For home reading I'm going to buy and suggest you buy a more substantial stand. The only reason to keep it is to slip in a backpack and take with you and hope you have the desk space wherever you take it to use it.</td>\n",
       "      <td>one</td>\n",
       "      <td>disappointed device basically coat hanger plastic guides   thing going portability   hold regular sized hard covered books forget size paperback work hard cover books nearly impossible align correctly slip slump kinds odd positions   completely remove book stand time need turn page try realign   tried textbooks   home reading going buy suggest buy substantial stand reason slip backpack hope desk space use</td>\n",
       "      <td>0</td>\n",
       "    </tr>\n",
       "    <tr>\n",
       "      <th>225</th>\n",
       "      <td>Can't chop anything well.  [Tried onions, tomatoes, celery, olives, nuts, and many other items.]  Tried 2, 4, and 8-oz loads.  Tried 1/8, 1/4, 1/2 cup loads.All you get is half mush and the other half \"as is\".I think it could \"mix\" 1/4 cup of cooked rice with a 1/2 cup of water ... but who needs that?This will be the last Cuisinart product I'll buy; their griddler, blender, and ice cream maker are poorly engineered too ... and I long ago stopped using them.</td>\n",
       "      <td>one</td>\n",
       "      <td>chop   tried onions tomatoes celery olives nuts items   tried 2 4 8-oz loads   tried 1/8 1/4 1/2 cup loads half mush half is\".i think mix 1/4 cup cooked rice 1/2 cup water ... needs that?this cuisinart product buy griddler blender ice cream maker poorly engineered ... long ago stopped</td>\n",
       "      <td>0</td>\n",
       "    </tr>\n",
       "    <tr>\n",
       "      <th>...</th>\n",
       "      <td>...</td>\n",
       "      <td>...</td>\n",
       "      <td>...</td>\n",
       "      <td>...</td>\n",
       "    </tr>\n",
       "    <tr>\n",
       "      <th>29729</th>\n",
       "      <td>This is a very good item for someone with small chopping jobs. Everything works fine very easy to clean very easy to the store</td>\n",
       "      <td>five</td>\n",
       "      <td>good item small chopping jobs works fine easy clean easy store</td>\n",
       "      <td>4</td>\n",
       "    </tr>\n",
       "    <tr>\n",
       "      <th>29730</th>\n",
       "      <td>i love this black and decker cup chopper. first the price 19.99 and second easy to clean. i thought to spend a couple of hundreds on a chopper but thanks god i found this.</td>\n",
       "      <td>five</td>\n",
       "      <td>love black decker cup chopper price second easy clean thought spend couple hundreds chopper thanks god found</td>\n",
       "      <td>4</td>\n",
       "    </tr>\n",
       "    <tr>\n",
       "      <th>29731</th>\n",
       "      <td>I have used this food chopper several times now, and I like the way it works. I have used it to chop ginger root, garlic, onions, peppers, and cherry tomatoes. I like the way I can control the amount of chopping such as in the case of the cherry tomatoes since I did not want to make them into a sauce but just chopped; this product gave me good control. The other food items were finely chopped, and the recipes came out great: talapia in lemon sauce, lemony salmon, and orange chicken. Spooning the chopped food out of the container was very easy, and the clean up was likewise. I appreciate the reviews that helped me select this item for our kitchen. Thanks.</td>\n",
       "      <td>five</td>\n",
       "      <td>food chopper times like way works chop ginger root garlic onions peppers cherry tomatoes like way control chopping case cherry tomatoes want sauce chopped product gave good control food items finely chopped recipes came great talapia lemon sauce lemony salmon orange chicken spooning chopped food container easy clean likewise appreciate reviews helped select item kitchen thanks</td>\n",
       "      <td>4</td>\n",
       "    </tr>\n",
       "    <tr>\n",
       "      <th>29732</th>\n",
       "      <td>its is small and although you have to shake up or mix up whatever you are chopping, it does a good job for what I need it for.</td>\n",
       "      <td>five</td>\n",
       "      <td>small shake mix chopping good job need</td>\n",
       "      <td>4</td>\n",
       "    </tr>\n",
       "    <tr>\n",
       "      <th>29735</th>\n",
       "      <td>I really love this food chopper.  It performs very well and is easy to clean.  It has two speeds and does a fine job of chopping just about anything!  I highly recommend this chopper.</td>\n",
       "      <td>five</td>\n",
       "      <td>love food chopper   performs easy clean   speeds fine job chopping   highly recommend chopper</td>\n",
       "      <td>4</td>\n",
       "    </tr>\n",
       "  </tbody>\n",
       "</table>\n",
       "<p>100000 rows × 4 columns</p>\n",
       "</div>"
      ],
      "text/plain": [
       "                                                                                                                                                                                                                                                                                                                                                                                                                                                                                                                                                                                                                                                                                                                                                                                                                            review condition  \\\n",
       "Unnamed: 0                                                                                                                                                                                                                                                                                                                                                                                                                                                                                                                                                                                                                                                                                                                                                                                                                                     \n",
       "40                                                                                                                                                                                                                                                                                                                                                                                                                                                                                                                                                                                                                                                                                                             This is so remedial.  Buy a Wilton magazine for less money and get more ideas and instructions for your investment.       one   \n",
       "120                                                                                                                                                                                                                                                                                                                                                                                                                                                                                                                                                                                         I did sloppy shopping. This machine is exactly what the name says it is - a speller. I wanted definitions, OH, that would be a dictionary! I ordered a dictionary an I am happy - except the voice is scratchy. Life is not perfect.gg       one   \n",
       "127                                                                                                                                                                                                                                                                                                                                                                                                                                                                                                                                                                         If you type the wrong word in, it &#34;might&#34; produce the correct word.  It doesn't give any explanation of the meaning or how it can be used. I should have sent it bk., but I factored in the cost of return shipping - wasn't worth the return.       one   \n",
       "139         I'm very disappointed in this device. It's basically just a coat hanger with two plastic guides.  The only thing it has going for it is portability.  It can only hold regular sized hard covered books. Forget about any size paperback, it will not work. Even hard cover books are nearly impossible to align correctly and they slip and slump in all kinds of odd positions.  Then you have to completely remove the book from the stand every time you need to turn a page and try to realign it all over again.  I tried with over 10 textbooks and it didn't do well with any of them.  For home reading I'm going to buy and suggest you buy a more substantial stand. The only reason to keep it is to slip in a backpack and take with you and hope you have the desk space wherever you take it to use it.       one   \n",
       "225                                                                                                                                                                                                                                                                                                                                                  Can't chop anything well.  [Tried onions, tomatoes, celery, olives, nuts, and many other items.]  Tried 2, 4, and 8-oz loads.  Tried 1/8, 1/4, 1/2 cup loads.All you get is half mush and the other half \"as is\".I think it could \"mix\" 1/4 cup of cooked rice with a 1/2 cup of water ... but who needs that?This will be the last Cuisinart product I'll buy; their griddler, blender, and ice cream maker are poorly engineered too ... and I long ago stopped using them.       one   \n",
       "...                                                                                                                                                                                                                                                                                                                                                                                                                                                                                                                                                                                                                                                                                                                                                                                                                            ...       ...   \n",
       "29729                                                                                                                                                                                                                                                                                                                                                                                                                                                                                                                                                                                                                                                                                               This is a very good item for someone with small chopping jobs. Everything works fine very easy to clean very easy to the store      five   \n",
       "29730                                                                                                                                                                                                                                                                                                                                                                                                                                                                                                                                                                                                                                                  i love this black and decker cup chopper. first the price 19.99 and second easy to clean. i thought to spend a couple of hundreds on a chopper but thanks god i found this.      five   \n",
       "29731                                                                                                                                       I have used this food chopper several times now, and I like the way it works. I have used it to chop ginger root, garlic, onions, peppers, and cherry tomatoes. I like the way I can control the amount of chopping such as in the case of the cherry tomatoes since I did not want to make them into a sauce but just chopped; this product gave me good control. The other food items were finely chopped, and the recipes came out great: talapia in lemon sauce, lemony salmon, and orange chicken. Spooning the chopped food out of the container was very easy, and the clean up was likewise. I appreciate the reviews that helped me select this item for our kitchen. Thanks.      five   \n",
       "29732                                                                                                                                                                                                                                                                                                                                                                                                                                                                                                                                                                                                                                                                                               its is small and although you have to shake up or mix up whatever you are chopping, it does a good job for what I need it for.      five   \n",
       "29735                                                                                                                                                                                                                                                                                                                                                                                                                                                                                                                                                                                                                                      I really love this food chopper.  It performs very well and is easy to clean.  It has two speeds and does a fine job of chopping just about anything!  I highly recommend this chopper.      five   \n",
       "\n",
       "                                                                                                                                                                                                                                                                                                                                                                                                                          clean_text  condition_enc  \n",
       "Unnamed: 0                                                                                                                                                                                                                                                                                                                                                                                                                                           \n",
       "40                                                                                                                                                                                                                                                                                                                                                                remedial   buy wilton magazine money ideas instructions investment              0  \n",
       "120                                                                                                                                                                                                                                                                                            sloppy shopping machine exactly says speller wanted definitions oh dictionary ordered dictionary happy voice scratchy life perfect.gg              0  \n",
       "127                                                                                                                                                                                                                                                                                                                    type wrong word produce correct word   explanation meaning sent bk factored cost return shipping worth return              0  \n",
       "139         disappointed device basically coat hanger plastic guides   thing going portability   hold regular sized hard covered books forget size paperback work hard cover books nearly impossible align correctly slip slump kinds odd positions   completely remove book stand time need turn page try realign   tried textbooks   home reading going buy suggest buy substantial stand reason slip backpack hope desk space use              0  \n",
       "225                                                                                                                                    chop   tried onions tomatoes celery olives nuts items   tried 2 4 8-oz loads   tried 1/8 1/4 1/2 cup loads half mush half is\".i think mix 1/4 cup cooked rice 1/2 cup water ... needs that?this cuisinart product buy griddler blender ice cream maker poorly engineered ... long ago stopped              0  \n",
       "...                                                                                                                                                                                                                                                                                                                                                                                                                              ...            ...  \n",
       "29729                                                                                                                                                                                                                                                                                                                                                                 good item small chopping jobs works fine easy clean easy store              4  \n",
       "29730                                                                                                                                                                                                                                                                                                                   love black decker cup chopper price second easy clean thought spend couple hundreds chopper thanks god found              4  \n",
       "29731                                    food chopper times like way works chop ginger root garlic onions peppers cherry tomatoes like way control chopping case cherry tomatoes want sauce chopped product gave good control food items finely chopped recipes came great talapia lemon sauce lemony salmon orange chicken spooning chopped food container easy clean likewise appreciate reviews helped select item kitchen thanks              4  \n",
       "29732                                                                                                                                                                                                                                                                                                                                                                                         small shake mix chopping good job need              4  \n",
       "29735                                                                                                                                                                                                                                                                                                                                  love food chopper   performs easy clean   speeds fine job chopping   highly recommend chopper              4  \n",
       "\n",
       "[100000 rows x 4 columns]"
      ]
     },
     "execution_count": 44,
     "metadata": {},
     "output_type": "execute_result"
    }
   ],
   "source": [
    "df"
   ]
  },
  {
   "cell_type": "code",
   "execution_count": 24,
   "metadata": {},
   "outputs": [
    {
     "data": {
      "text/plain": [
       "<matplotlib.axes._subplots.AxesSubplot at 0x7f7295ba32b0>"
      ]
     },
     "execution_count": 24,
     "metadata": {},
     "output_type": "execute_result"
    },
    {
     "data": {
      "image/png": "[encoded data removed]",
      "text/plain": [
       "<Figure size 864x288 with 1 Axes>"
      ]
     },
     "metadata": {
      "needs_background": "light"
     },
     "output_type": "display_data"
    }
   ],
   "source": [
    "df.groupby([df[\"condition\"]]).count().plot.bar(figsize=(12,4))\n"
   ]
  },
  {
   "cell_type": "code",
   "execution_count": null,
   "metadata": {},
   "outputs": [],
   "source": []
  },
  {
   "cell_type": "code",
   "execution_count": null,
   "metadata": {},
   "outputs": [],
   "source": []
  },
  {
   "cell_type": "code",
   "execution_count": null,
   "metadata": {},
   "outputs": [],
   "source": []
  },
  {
   "cell_type": "code",
   "execution_count": 45,
   "metadata": {},
   "outputs": [],
   "source": [
    "MAX_LEN = 512\n",
    "TRAIN_BATCH_SIZE = 32\n",
    "VALID_BATCH_SIZE = 16\n",
    "EPOCHS = 2\n",
    "LEARNING_RATE = 1e-05\n",
    "tokenizer = DistilBertTokenizer.from_pretrained('distilbert-base-uncased')"
   ]
  },
  {
   "cell_type": "code",
   "execution_count": 46,
   "metadata": {},
   "outputs": [],
   "source": [
    "class Triage(Dataset):\n",
    "    def __init__(self, dataframe, tokenizer, max_len):\n",
    "        self.len = len(dataframe)\n",
    "        self.data = dataframe\n",
    "        self.tokenizer = tokenizer\n",
    "        self.max_len = max_len\n",
    "        \n",
    "    def __getitem__(self, index):\n",
    "        text = str(self.data.clean_text[index])\n",
    "        inputs = self.tokenizer.encode_plus(\n",
    "            text,\n",
    "            None,\n",
    "            add_special_tokens=True,\n",
    "            max_length=self.max_len,\n",
    "            pad_to_max_length=True,\n",
    "            return_token_type_ids=True\n",
    "        )\n",
    "        ids = inputs['input_ids']\n",
    "        mask = inputs['attention_mask']\n",
    "\n",
    "        return {\n",
    "            'ids': torch.tensor(ids, dtype=torch.long),\n",
    "            'mask': torch.tensor(mask, dtype=torch.long),\n",
    "            'targets': torch.tensor(self.data.condition_enc[index], dtype=torch.float)\n",
    "        } \n",
    "    \n",
    "    def __len__(self):\n",
    "        return self.len"
   ]
  },
  {
   "cell_type": "code",
   "execution_count": 47,
   "metadata": {},
   "outputs": [],
   "source": [
    "train_size = 0.8\n",
    "train_dataset=df.sample(frac=train_size,random_state=200)"
   ]
  },
  {
   "cell_type": "code",
   "execution_count": 48,
   "metadata": {},
   "outputs": [],
   "source": [
    "test_dataset=df.drop(train_dataset.index).reset_index(drop=True)\n",
    "train_dataset.reset_index(drop=True, inplace=True)"
   ]
  },
  {
   "cell_type": "code",
   "execution_count": 49,
   "metadata": {},
   "outputs": [
    {
     "name": "stdout",
     "output_type": "stream",
     "text": [
      "FULL Dataset: (100000, 4)\n",
      "TRAIN Dataset: (80000, 4)\n",
      "TEST Dataset: (20000, 4)\n"
     ]
    }
   ],
   "source": [
    "print(\"FULL Dataset: {}\".format(df.shape))\n",
    "print(\"TRAIN Dataset: {}\".format(train_dataset.shape))\n",
    "print(\"TEST Dataset: {}\".format(test_dataset.shape))\n",
    "\n",
    "training_set = Triage(train_dataset, tokenizer, MAX_LEN)\n",
    "testing_set = Triage(test_dataset, tokenizer, MAX_LEN)"
   ]
  },
  {
   "cell_type": "code",
   "execution_count": 50,
   "metadata": {},
   "outputs": [],
   "source": [
    "train_params = {'batch_size': TRAIN_BATCH_SIZE,\n",
    "                'shuffle': True,\n",
    "                'num_workers': 0\n",
    "                }\n",
    "\n",
    "test_params = {'batch_size': VALID_BATCH_SIZE,\n",
    "                'shuffle': True,\n",
    "                'num_workers': 0\n",
    "                }\n",
    "\n",
    "training_loader = DataLoader(training_set, **train_params)\n",
    "testing_loader = DataLoader(testing_set, **test_params)\n"
   ]
  },
  {
   "cell_type": "code",
   "execution_count": 51,
   "metadata": {},
   "outputs": [],
   "source": [
    "class DistillBERTClass(torch.nn.Module):\n",
    "    def __init__(self):\n",
    "        super(DistillBERTClass, self).__init__()\n",
    "        self.l1 = transformers.DistilBertModel.from_pretrained('distilbert-base-uncased')\n",
    "        self.l2 = torch.nn.Dropout(0.3)\n",
    "        self.l3 = torch.nn.Linear(768, 1)\n",
    "    \n",
    "    def forward(self, ids, mask):\n",
    "        output_1= self.l1(ids, mask)\n",
    "        output_2 = self.l2(output_1[0])\n",
    "        output = self.l3(output_2)\n",
    "        return output"
   ]
  },
  {
   "cell_type": "code",
   "execution_count": 52,
   "metadata": {},
   "outputs": [
    {
     "data": {
      "text/plain": [
       "DistillBERTClass(\n",
       "  (l1): DistilBertModel(\n",
       "    (embeddings): Embeddings(\n",
       "      (word_embeddings): Embedding(30522, 768, padding_idx=0)\n",
       "      (position_embeddings): Embedding(512, 768)\n",
       "      (LayerNorm): LayerNorm((768,), eps=1e-12, elementwise_affine=True)\n",
       "      (dropout): Dropout(p=0.1, inplace=False)\n",
       "    )\n",
       "    (transformer): Transformer(\n",
       "      (layer): ModuleList(\n",
       "        (0): TransformerBlock(\n",
       "          (attention): MultiHeadSelfAttention(\n",
       "            (dropout): Dropout(p=0.1, inplace=False)\n",
       "            (q_lin): Linear(in_features=768, out_features=768, bias=True)\n",
       "            (k_lin): Linear(in_features=768, out_features=768, bias=True)\n",
       "            (v_lin): Linear(in_features=768, out_features=768, bias=True)\n",
       "            (out_lin): Linear(in_features=768, out_features=768, bias=True)\n",
       "          )\n",
       "          (sa_layer_norm): LayerNorm((768,), eps=1e-12, elementwise_affine=True)\n",
       "          (ffn): FFN(\n",
       "            (dropout): Dropout(p=0.1, inplace=False)\n",
       "            (lin1): Linear(in_features=768, out_features=3072, bias=True)\n",
       "            (lin2): Linear(in_features=3072, out_features=768, bias=True)\n",
       "          )\n",
       "          (output_layer_norm): LayerNorm((768,), eps=1e-12, elementwise_affine=True)\n",
       "        )\n",
       "        (1): TransformerBlock(\n",
       "          (attention): MultiHeadSelfAttention(\n",
       "            (dropout): Dropout(p=0.1, inplace=False)\n",
       "            (q_lin): Linear(in_features=768, out_features=768, bias=True)\n",
       "            (k_lin): Linear(in_features=768, out_features=768, bias=True)\n",
       "            (v_lin): Linear(in_features=768, out_features=768, bias=True)\n",
       "            (out_lin): Linear(in_features=768, out_features=768, bias=True)\n",
       "          )\n",
       "          (sa_layer_norm): LayerNorm((768,), eps=1e-12, elementwise_affine=True)\n",
       "          (ffn): FFN(\n",
       "            (dropout): Dropout(p=0.1, inplace=False)\n",
       "            (lin1): Linear(in_features=768, out_features=3072, bias=True)\n",
       "            (lin2): Linear(in_features=3072, out_features=768, bias=True)\n",
       "          )\n",
       "          (output_layer_norm): LayerNorm((768,), eps=1e-12, elementwise_affine=True)\n",
       "        )\n",
       "        (2): TransformerBlock(\n",
       "          (attention): MultiHeadSelfAttention(\n",
       "            (dropout): Dropout(p=0.1, inplace=False)\n",
       "            (q_lin): Linear(in_features=768, out_features=768, bias=True)\n",
       "            (k_lin): Linear(in_features=768, out_features=768, bias=True)\n",
       "            (v_lin): Linear(in_features=768, out_features=768, bias=True)\n",
       "            (out_lin): Linear(in_features=768, out_features=768, bias=True)\n",
       "          )\n",
       "          (sa_layer_norm): LayerNorm((768,), eps=1e-12, elementwise_affine=True)\n",
       "          (ffn): FFN(\n",
       "            (dropout): Dropout(p=0.1, inplace=False)\n",
       "            (lin1): Linear(in_features=768, out_features=3072, bias=True)\n",
       "            (lin2): Linear(in_features=3072, out_features=768, bias=True)\n",
       "          )\n",
       "          (output_layer_norm): LayerNorm((768,), eps=1e-12, elementwise_affine=True)\n",
       "        )\n",
       "        (3): TransformerBlock(\n",
       "          (attention): MultiHeadSelfAttention(\n",
       "            (dropout): Dropout(p=0.1, inplace=False)\n",
       "            (q_lin): Linear(in_features=768, out_features=768, bias=True)\n",
       "            (k_lin): Linear(in_features=768, out_features=768, bias=True)\n",
       "            (v_lin): Linear(in_features=768, out_features=768, bias=True)\n",
       "            (out_lin): Linear(in_features=768, out_features=768, bias=True)\n",
       "          )\n",
       "          (sa_layer_norm): LayerNorm((768,), eps=1e-12, elementwise_affine=True)\n",
       "          (ffn): FFN(\n",
       "            (dropout): Dropout(p=0.1, inplace=False)\n",
       "            (lin1): Linear(in_features=768, out_features=3072, bias=True)\n",
       "            (lin2): Linear(in_features=3072, out_features=768, bias=True)\n",
       "          )\n",
       "          (output_layer_norm): LayerNorm((768,), eps=1e-12, elementwise_affine=True)\n",
       "        )\n",
       "        (4): TransformerBlock(\n",
       "          (attention): MultiHeadSelfAttention(\n",
       "            (dropout): Dropout(p=0.1, inplace=False)\n",
       "            (q_lin): Linear(in_features=768, out_features=768, bias=True)\n",
       "            (k_lin): Linear(in_features=768, out_features=768, bias=True)\n",
       "            (v_lin): Linear(in_features=768, out_features=768, bias=True)\n",
       "            (out_lin): Linear(in_features=768, out_features=768, bias=True)\n",
       "          )\n",
       "          (sa_layer_norm): LayerNorm((768,), eps=1e-12, elementwise_affine=True)\n",
       "          (ffn): FFN(\n",
       "            (dropout): Dropout(p=0.1, inplace=False)\n",
       "            (lin1): Linear(in_features=768, out_features=3072, bias=True)\n",
       "            (lin2): Linear(in_features=3072, out_features=768, bias=True)\n",
       "          )\n",
       "          (output_layer_norm): LayerNorm((768,), eps=1e-12, elementwise_affine=True)\n",
       "        )\n",
       "        (5): TransformerBlock(\n",
       "          (attention): MultiHeadSelfAttention(\n",
       "            (dropout): Dropout(p=0.1, inplace=False)\n",
       "            (q_lin): Linear(in_features=768, out_features=768, bias=True)\n",
       "            (k_lin): Linear(in_features=768, out_features=768, bias=True)\n",
       "            (v_lin): Linear(in_features=768, out_features=768, bias=True)\n",
       "            (out_lin): Linear(in_features=768, out_features=768, bias=True)\n",
       "          )\n",
       "          (sa_layer_norm): LayerNorm((768,), eps=1e-12, elementwise_affine=True)\n",
       "          (ffn): FFN(\n",
       "            (dropout): Dropout(p=0.1, inplace=False)\n",
       "            (lin1): Linear(in_features=768, out_features=3072, bias=True)\n",
       "            (lin2): Linear(in_features=3072, out_features=768, bias=True)\n",
       "          )\n",
       "          (output_layer_norm): LayerNorm((768,), eps=1e-12, elementwise_affine=True)\n",
       "        )\n",
       "      )\n",
       "    )\n",
       "  )\n",
       "  (l2): Dropout(p=0.3, inplace=False)\n",
       "  (l3): Linear(in_features=768, out_features=1, bias=True)\n",
       ")"
      ]
     },
     "execution_count": 52,
     "metadata": {},
     "output_type": "execute_result"
    }
   ],
   "source": [
    "model = DistillBERTClass()\n",
    "model.to(device)"
   ]
  },
  {
   "cell_type": "code",
   "execution_count": 53,
   "metadata": {},
   "outputs": [],
   "source": [
    "loss_function = torch.nn.CrossEntropyLoss()\n",
    "optimizer = torch.optim.Adam(params =  model.parameters(), lr=LEARNING_RATE)"
   ]
  },
  {
   "cell_type": "code",
   "execution_count": 54,
   "metadata": {},
   "outputs": [],
   "source": [
    "def train(epoch):\n",
    "    model.train()\n",
    "    for _,data in enumerate(training_loader, 0):\n",
    "        ids = data['ids'].to(device, dtype = torch.long)\n",
    "        mask = data['mask'].to(device, dtype = torch.long)\n",
    "        targets = data['targets'].to(device, dtype = torch.long)\n",
    "\n",
    "        outputs = model(ids, mask).squeeze()\n",
    "\n",
    "        optimizer.zero_grad()\n",
    "\n",
    "        loss = loss_function(outputs, targets)\n",
    "        if _ % 500 == 0:\n",
    "            print(f'Epoch: {epoch}, Loss:  {loss.item()}')\n",
    "        \n",
    "        optimizer.zero_grad()\n",
    "        loss.backward()\n",
    "        optimizer.step()"
   ]
  },
  {
   "cell_type": "code",
   "execution_count": 55,
   "metadata": {},
   "outputs": [],
   "source": [
    "def valid(model, testing_loader):\n",
    "    model.eval()\n",
    "    n_correct = 0; n_wrong = 0; total = 0\n",
    "    with torch.no_grad():\n",
    "        for _, data in enumerate(testing_loader, 0):\n",
    "            ids = data['ids'].to(device, dtype = torch.long)\n",
    "            mask = data['mask'].to(device, dtype = torch.long)\n",
    "            targets = data['targets'].to(device, dtype = torch.long)\n",
    "            outputs = model(ids, mask).squeeze()\n",
    "            big_val, big_idx = torch.max(outputs.data, dim=1)\n",
    "            total+=targets.size(0)\n",
    "            n_correct+=(big_idx==targets).sum().item()\n",
    "    return (n_correct*100.0)/total"
   ]
  },
  {
   "cell_type": "code",
   "execution_count": 60,
   "metadata": {
    "scrolled": true
   },
   "outputs": [
    {
     "name": "stdout",
     "output_type": "stream",
     "text": [
      "Epoch: 0, Loss:  1.0578205585479736\n",
      "Epoch: 0, Loss:  1.1335902214050293\n",
      "Epoch: 0, Loss:  1.1137773990631104\n",
      "Epoch: 0, Loss:  0.8757357597351074\n",
      "Epoch: 0, Loss:  0.9504125714302063\n",
      "Validation accuracy - 51.22\n",
      "Epoch: 1, Loss:  0.8876297473907471\n",
      "Epoch: 1, Loss:  1.06541907787323\n",
      "Epoch: 1, Loss:  1.0367076396942139\n",
      "Epoch: 1, Loss:  1.005798101425171\n",
      "Epoch: 1, Loss:  1.1133477687835693\n",
      "Validation accuracy - 52.05\n"
     ]
    }
   ],
   "source": [
    "for epoch in range(EPOCHS):\n",
    "    train(epoch)\n",
    "    val_acc = valid(model, testing_loader)\n",
    "    print(f\"Validation accuracy - {val_acc}\")"
   ]
  },
  {
   "cell_type": "code",
   "execution_count": 61,
   "metadata": {},
   "outputs": [
    {
     "name": "stdout",
     "output_type": "stream",
     "text": [
      "This is the validation section to print the accuracy and see how it performs\n",
      "Here we are leveraging on the dataloader crearted for the validation dataset, the approcah is using more of pytorch\n",
      "Accuracy on test data = 52.05%\n"
     ]
    }
   ],
   "source": [
    "# takes couple minutes to run on total data of 40k\n",
    "print('This is the validation section to print the accuracy and see how it performs')\n",
    "print('Here we are leveraging on the dataloader crearted for the validation dataset, the approcah is using more of pytorch')\n",
    "\n",
    "acc = valid(model, testing_loader)\n",
    "print(\"Accuracy on test data = %0.2f%%\" % acc)"
   ]
  },
  {
   "cell_type": "code",
   "execution_count": null,
   "metadata": {},
   "outputs": [],
   "source": []
  }
 ],
 "metadata": {
  "kernelspec": {
   "display_name": "Environment (conda_pytorch_p36)",
   "language": "python",
   "name": "conda_pytorch_p36"
  },
  "language_info": {
   "codemirror_mode": {
    "name": "ipython",
    "version": 3
   },
   "file_extension": ".py",
   "mimetype": "text/x-python",
   "name": "python",
   "nbconvert_exporter": "python",
   "pygments_lexer": "ipython3",
   "version": "3.6.10"
  },
  "pycharm": {
   "stem_cell": {
    "cell_type": "raw",
    "source": [],
    "metadata": {
     "collapsed": false
    }
   }
  }
 },
 "nbformat": 4,
 "nbformat_minor": 4
}